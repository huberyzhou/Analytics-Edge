{
 "cells": [
  {
   "cell_type": "markdown",
   "metadata": {},
   "source": [
    "<h1 align='center'>Internet privacy poll</h1>\n",
    "\n",
    "<img src='https://atlassociety.org/sites/default/files/internet-privacy_0.jpg'/>\n",
    "\n",
    "Internet privacy has gained widespread attention in recent years. To measure the degree to which people are concerned about hot-button issues like Internet privacy, social scientists conduct polls in which they interview a large number of people about the topic. In this assignment, we will analyze data from a July 2013 Pew Internet and American Life Project poll on Internet anonymity and privacy, which involved interviews across the United States. While the full polling data can be found here, we will use a more limited version of the results, available in data/AnonymityPoll.csv. The dataset has the following fields (all Internet use-related fields were only collected from interviewees who either use the Internet or have a smartphone):\n",
    "\n",
    "**Internet.Use**: A binary variable indicating if the interviewee uses the Internet, at least occasionally (equals 1 if the interviewee uses the Internet, and equals 0 if the interviewee does not use the Internet).\n",
    "\n",
    "**Smartphone**: A binary variable indicating if the interviewee has a smartphone (equals 1 if they do have a smartphone, and equals 0 if they don't have a smartphone).\n",
    "\n",
    "**Sex**: Male or Female.\n",
    "\n",
    "**Age**: Age in years.\n",
    "\n",
    "**State**: State of residence of the interviewee.\n",
    "\n",
    "**Region**: Census region of the interviewee (Midwest, Northeast, South, or West).\n",
    "\n",
    "**Conservativeness**: Self-described level of conservativeness of interviewee, from 1 (very liberal) to 5 (very conservative).\n",
    "\n",
    "**Info.On.Internet**: Number of the following items this interviewee believes to be available on the Internet for others to see: \n",
    "\n",
    "* (1) Their email address\n",
    "* (2) Their home address\n",
    "* (3) Their home phone number\n",
    "* (4) Their cell phone number\n",
    "* (5) The employer/company they work for\n",
    "* (6) Their political party or political affiliation\n",
    "* (7) Things they've written that have their name on it\n",
    "* (8) A photo of them\n",
    "* (9) A video of them\n",
    "* (10) Which groups or organizations they belong to\n",
    "* (11) Their birth date.\n",
    "\n",
    "**Worry.About.Info**: A binary variable indicating if the interviewee worries about how much information is available about them on the Internet (equals 1 if they worry, and equals 0 if they don't worry).\n",
    "\n",
    "**Privacy.Importance**: A score from 0 (privacy is not too important) to 100 (privacy is very important), which combines the degree to which they find privacy important in the following:\n",
    "* (1) The websites they browse\n",
    "* (2) Knowledge of the place they are located when they use the Internet\n",
    "* (3) The content and files they download\n",
    "* (4) The times of day they are online\n",
    "* (5) The applications or programs they use; (6) The searches they perform; (7) The content of their email; (8) The people they exchange email with; and (9) The content of their online chats or hangouts with others.\n",
    "\n",
    "**Anonymity.Possible**: A binary variable indicating if the interviewee thinks it's possible to use the Internet anonymously, meaning in such a way that online activities can't be traced back to them (equals 1 if he/she believes you can, and equals 0 if he/she believes you can't).\n",
    "\n",
    "**Tried.Masking.Identity**: A binary variable indicating if the interviewee has ever tried to mask his/her identity when using the Internet (equals 1 if he/she has tried to mask his/her identity, and equals 0 if he/she has not tried to mask his/her identity).\n",
    "\n",
    "**Privacy.Laws.Effective**: A binary variable indicating if the interviewee believes United States law provides reasonable privacy protection for Internet users (equals 1 if he/she believes it does, and equals 0 if he/she believes it doesn't)."
   ]
  },
  {
   "cell_type": "code",
   "execution_count": 3,
   "metadata": {
    "collapsed": true
   },
   "outputs": [],
   "source": [
    "import numpy as np\n",
    "import pandas as pd\n",
    "import seaborn as sns\n",
    "import matplotlib.pyplot as plt\n",
    "plt.style.use('fivethirtyeight')\n",
    "\n",
    "poll = pd.read_csv('data/AnonymityPoll.csv')"
   ]
  },
  {
   "cell_type": "code",
   "execution_count": 5,
   "metadata": {},
   "outputs": [
    {
     "data": {
      "text/plain": [
       "(1002, 13)"
      ]
     },
     "execution_count": 5,
     "metadata": {},
     "output_type": "execute_result"
    }
   ],
   "source": [
    "# 1 - How many people participated in the poll?\n",
    "\n",
    "poll.shape\n",
    "\n",
    "# ans: 1002"
   ]
  },
  {
   "cell_type": "code",
   "execution_count": 7,
   "metadata": {},
   "outputs": [
    {
     "name": "stdout",
     "output_type": "stream",
     "text": [
      "1.0    487\n",
      "0.0    472\n",
      "Name: Smartphone, dtype: int64\n",
      "43\n"
     ]
    }
   ],
   "source": [
    "# 2 - Let's look at the breakdown of the number of people with smartphones\n",
    "\n",
    "# 2.1 - How many interviewees responded that they use a smartphone?\n",
    "# 2.2 - How many interviewees responded that they don't use a smartphone?\n",
    "# 2.3 - How many interviewees did not respond to the question, resulting in a missing value?\n",
    "\n",
    "print(poll.Smartphone.value_counts())\n",
    "print(poll.Smartphone.isnull().sum())\n",
    "\n",
    "# ans(2.1): 487     -\n",
    "# ans(2.2): 472     -----> 487 + 472 + 43 == 1002 the total number of people participated \n",
    "# ans(2.3): 43      - \n",
    "\n"
   ]
  },
  {
   "cell_type": "code",
   "execution_count": 12,
   "metadata": {},
   "outputs": [
    {
     "data": {
      "text/plain": [
       "Ohio            38\n",
       "Illinois        32\n",
       "Michigan        31\n",
       "Indiana         27\n",
       "Missouri        26\n",
       "Wisconsin       23\n",
       "Minnesota       15\n",
       "Kansas          14\n",
       "Iowa            14\n",
       "Nebraska        11\n",
       "North Dakota     5\n",
       "South Dakota     3\n",
       "Name: State, dtype: int64"
      ]
     },
     "execution_count": 12,
     "metadata": {},
     "output_type": "execute_result"
    }
   ],
   "source": [
    "# 3 - Which of the following are states in the Midwest census region?\n",
    "\n",
    "poll.State[poll.Region == 'Midwest'].value_counts()"
   ]
  },
  {
   "cell_type": "code",
   "execution_count": 46,
   "metadata": {},
   "outputs": [
    {
     "name": "stdout",
     "output_type": "stream",
     "text": [
      "186\n",
      "470\n",
      "285\n",
      "17\n"
     ]
    }
   ],
   "source": [
    "# 4.1 - How many interviewees reported not having used the Internet and not having used a smartphone?\n",
    "# 4.2 - How many interviewees reported having used the Internet and having used a smartphone?\n",
    "# 4.3 - How many interviewees reported having used the Internet but not having used a smartphone?\n",
    "# 4.4 - How many interviewees reported having used a smartphone but not having used the Internet?\n",
    "\n",
    "\n",
    "print(poll.Smartphone[ (poll.Smartphone == 0) & (poll['Internet.Use'] == 0) ].count())\n",
    "print(poll.Smartphone[ (poll.Smartphone == 1) & (poll['Internet.Use'] == 1) ].count())\n",
    "print(poll.Smartphone[ (poll.Smartphone == 0) & (poll['Internet.Use'] == 1) ].count())\n",
    "print(poll.Smartphone[ (poll.Smartphone == 1) & (poll['Internet.Use'] == 0) ].count())"
   ]
  },
  {
   "cell_type": "code",
   "execution_count": 48,
   "metadata": {},
   "outputs": [
    {
     "name": "stdout",
     "output_type": "stream",
     "text": [
      "1\n",
      "43\n"
     ]
    }
   ],
   "source": [
    "# 5.1 - How many interviewees have a missing value for their Internet use?\n",
    "# 5.2 - How many interviewees have a missing value for their smartphone use?\n",
    "\n",
    "print(poll['Internet.Use'].isnull().sum())\n",
    "print(poll.Smartphone.isnull().sum())"
   ]
  },
  {
   "cell_type": "code",
   "execution_count": 54,
   "metadata": {},
   "outputs": [
    {
     "name": "stdout",
     "output_type": "stream",
     "text": [
      "(792, 13)\n"
     ]
    },
    {
     "data": {
      "text/html": [
       "<div>\n",
       "<style>\n",
       "    .dataframe thead tr:only-child th {\n",
       "        text-align: right;\n",
       "    }\n",
       "\n",
       "    .dataframe thead th {\n",
       "        text-align: left;\n",
       "    }\n",
       "\n",
       "    .dataframe tbody tr th {\n",
       "        vertical-align: top;\n",
       "    }\n",
       "</style>\n",
       "<table border=\"1\" class=\"dataframe\">\n",
       "  <thead>\n",
       "    <tr style=\"text-align: right;\">\n",
       "      <th></th>\n",
       "      <th>Internet.Use</th>\n",
       "      <th>Smartphone</th>\n",
       "      <th>Sex</th>\n",
       "      <th>Age</th>\n",
       "      <th>State</th>\n",
       "      <th>Region</th>\n",
       "      <th>Conservativeness</th>\n",
       "      <th>Info.On.Internet</th>\n",
       "      <th>Worry.About.Info</th>\n",
       "      <th>Privacy.Importance</th>\n",
       "      <th>Anonymity.Possible</th>\n",
       "      <th>Tried.Masking.Identity</th>\n",
       "      <th>Privacy.Laws.Effective</th>\n",
       "    </tr>\n",
       "  </thead>\n",
       "  <tbody>\n",
       "    <tr>\n",
       "      <th>0</th>\n",
       "      <td>1.0</td>\n",
       "      <td>0.0</td>\n",
       "      <td>Male</td>\n",
       "      <td>62.0</td>\n",
       "      <td>Massachusetts</td>\n",
       "      <td>Northeast</td>\n",
       "      <td>4.0</td>\n",
       "      <td>0.0</td>\n",
       "      <td>1.0</td>\n",
       "      <td>100.000000</td>\n",
       "      <td>0.0</td>\n",
       "      <td>0.0</td>\n",
       "      <td>0.0</td>\n",
       "    </tr>\n",
       "    <tr>\n",
       "      <th>1</th>\n",
       "      <td>1.0</td>\n",
       "      <td>0.0</td>\n",
       "      <td>Male</td>\n",
       "      <td>45.0</td>\n",
       "      <td>South Carolina</td>\n",
       "      <td>South</td>\n",
       "      <td>1.0</td>\n",
       "      <td>1.0</td>\n",
       "      <td>0.0</td>\n",
       "      <td>0.000000</td>\n",
       "      <td>1.0</td>\n",
       "      <td>0.0</td>\n",
       "      <td>1.0</td>\n",
       "    </tr>\n",
       "    <tr>\n",
       "      <th>2</th>\n",
       "      <td>0.0</td>\n",
       "      <td>1.0</td>\n",
       "      <td>Female</td>\n",
       "      <td>70.0</td>\n",
       "      <td>New Jersey</td>\n",
       "      <td>Northeast</td>\n",
       "      <td>4.0</td>\n",
       "      <td>0.0</td>\n",
       "      <td>0.0</td>\n",
       "      <td>NaN</td>\n",
       "      <td>0.0</td>\n",
       "      <td>0.0</td>\n",
       "      <td>NaN</td>\n",
       "    </tr>\n",
       "    <tr>\n",
       "      <th>3</th>\n",
       "      <td>1.0</td>\n",
       "      <td>0.0</td>\n",
       "      <td>Male</td>\n",
       "      <td>70.0</td>\n",
       "      <td>Georgia</td>\n",
       "      <td>South</td>\n",
       "      <td>4.0</td>\n",
       "      <td>3.0</td>\n",
       "      <td>1.0</td>\n",
       "      <td>88.888889</td>\n",
       "      <td>1.0</td>\n",
       "      <td>0.0</td>\n",
       "      <td>0.0</td>\n",
       "    </tr>\n",
       "    <tr>\n",
       "      <th>5</th>\n",
       "      <td>1.0</td>\n",
       "      <td>1.0</td>\n",
       "      <td>Male</td>\n",
       "      <td>49.0</td>\n",
       "      <td>Tennessee</td>\n",
       "      <td>South</td>\n",
       "      <td>4.0</td>\n",
       "      <td>6.0</td>\n",
       "      <td>0.0</td>\n",
       "      <td>88.888889</td>\n",
       "      <td>1.0</td>\n",
       "      <td>1.0</td>\n",
       "      <td>0.0</td>\n",
       "    </tr>\n",
       "  </tbody>\n",
       "</table>\n",
       "</div>"
      ],
      "text/plain": [
       "   Internet.Use  Smartphone     Sex   Age           State     Region  \\\n",
       "0           1.0         0.0    Male  62.0   Massachusetts  Northeast   \n",
       "1           1.0         0.0    Male  45.0  South Carolina      South   \n",
       "2           0.0         1.0  Female  70.0      New Jersey  Northeast   \n",
       "3           1.0         0.0    Male  70.0         Georgia      South   \n",
       "5           1.0         1.0    Male  49.0       Tennessee      South   \n",
       "\n",
       "   Conservativeness  Info.On.Internet  Worry.About.Info  Privacy.Importance  \\\n",
       "0               4.0               0.0               1.0          100.000000   \n",
       "1               1.0               1.0               0.0            0.000000   \n",
       "2               4.0               0.0               0.0                 NaN   \n",
       "3               4.0               3.0               1.0           88.888889   \n",
       "5               4.0               6.0               0.0           88.888889   \n",
       "\n",
       "   Anonymity.Possible  Tried.Masking.Identity  Privacy.Laws.Effective  \n",
       "0                 0.0                     0.0                     0.0  \n",
       "1                 1.0                     0.0                     1.0  \n",
       "2                 0.0                     0.0                     NaN  \n",
       "3                 1.0                     0.0                     0.0  \n",
       "5                 1.0                     1.0                     0.0  "
      ]
     },
     "execution_count": 54,
     "metadata": {},
     "output_type": "execute_result"
    }
   ],
   "source": [
    "# 6 - Create a subset of the poll dataframe called \"limited\", which is limited to interviewees who reported\n",
    "# Internet use or who reported smartphone use.\n",
    "# In lecture, we used the & symbol to use two criteria to make a subset of the data.\n",
    "# To only take observations that have a certain value in \n",
    "# one variable or the other, the | character can be used in place of the & symbol.\n",
    "# This is also called a logical \"or\" operation.\n",
    "\n",
    "\n",
    "# How many interviewees are in the new data frame?\n",
    "\n",
    "limited = poll[(poll['Internet.Use'] == 1) | poll.Smartphone == 1]\n",
    "\n",
    "print(limited.shape)\n",
    "limited.head()"
   ]
  },
  {
   "cell_type": "markdown",
   "metadata": {},
   "source": [
    "## For the rest of the questions, limited dataframe shall be used to answer the questions"
   ]
  },
  {
   "cell_type": "code",
   "execution_count": 55,
   "metadata": {},
   "outputs": [
    {
     "data": {
      "text/plain": [
       "Internet.Use               0\n",
       "Smartphone                20\n",
       "Sex                        0\n",
       "Age                       22\n",
       "State                      0\n",
       "Region                     0\n",
       "Conservativeness          45\n",
       "Info.On.Internet           0\n",
       "Worry.About.Info           2\n",
       "Privacy.Importance         5\n",
       "Anonymity.Possible        39\n",
       "Tried.Masking.Identity     8\n",
       "Privacy.Laws.Effective    65\n",
       "dtype: int64"
      ]
     },
     "execution_count": 55,
     "metadata": {},
     "output_type": "execute_result"
    }
   ],
   "source": [
    "# 7 - Which variables have missing values in the limited data frame?\n",
    "\n",
    "limited.isnull().sum()\n",
    "\n",
    "# ans: Smartphone, Age, Conservativeness, Anonymity.Possible, Worry.About.Info, \n",
    "#      Tried.Masking.Identity and Privacy.Laws.Effective"
   ]
  },
  {
   "cell_type": "code",
   "execution_count": 78,
   "metadata": {},
   "outputs": [
    {
     "data": {
      "text/plain": [
       "3.7954545454545454"
      ]
     },
     "execution_count": 78,
     "metadata": {},
     "output_type": "execute_result"
    }
   ],
   "source": [
    "# 8 - What is the average number of pieces of personal information on the Internet,\n",
    "#     according to the Info.On.Internet variable?\n",
    "\n",
    "limited['Info.On.Internet'].describe()  # Look at the mean\n",
    "limited['Info.On.Internet'].mean()"
   ]
  },
  {
   "cell_type": "code",
   "execution_count": 79,
   "metadata": {},
   "outputs": [
    {
     "data": {
      "text/plain": [
       "0.0     105\n",
       "4.0     104\n",
       "3.0     101\n",
       "2.0      95\n",
       "5.0      94\n",
       "1.0      84\n",
       "6.0      67\n",
       "7.0      63\n",
       "8.0      40\n",
       "9.0      18\n",
       "10.0     13\n",
       "11.0      8\n",
       "Name: Info.On.Internet, dtype: int64"
      ]
     },
     "execution_count": 79,
     "metadata": {},
     "output_type": "execute_result"
    }
   ],
   "source": [
    "# 9.1 - How many interviewees reported a value of 0 for Info.On.Internet?\n",
    "# 9.2 - How many interviewees reported the maximum value of 11 for Info.On.Internet?\n",
    "\n",
    "\n",
    "limited['Info.On.Internet'].value_counts()\n",
    "\n",
    "# ans(9.1): 105\n",
    "# ans(9.2): 8"
   ]
  },
  {
   "cell_type": "code",
   "execution_count": 80,
   "metadata": {},
   "outputs": [
    {
     "data": {
      "text/plain": [
       "0.48860759493670886"
      ]
     },
     "execution_count": 80,
     "metadata": {},
     "output_type": "execute_result"
    }
   ],
   "source": [
    "# 10 - What proportion of interviewees who answered the Worry.About.Info question worry about how much information\n",
    "#      is available about them on the Internet? Note that to compute this proportion you will be dividing\n",
    "#      by the number of people who answered the Worry.About.Info question,\n",
    "#      not the total number of people in the data frame.\n",
    "\n",
    "they_worry = limited['Worry.About.Info'].value_counts()[1]\n",
    "they_worry / limited['Worry.About.Info'].count()\n",
    "\n",
    "# ans: 0.489"
   ]
  },
  {
   "cell_type": "code",
   "execution_count": 81,
   "metadata": {},
   "outputs": [
    {
     "data": {
      "text/plain": [
       "0.36918990703851262"
      ]
     },
     "execution_count": 81,
     "metadata": {},
     "output_type": "execute_result"
    }
   ],
   "source": [
    "# 11 - What proportion of interviewees who answered the Anonymity, \n",
    "#      think it is possible to be completely anonymous on the Internet?\n",
    "\n",
    "limited['Anonymity.Possible'].value_counts()[1] / limited['Anonymity.Possible'].count()\n",
    "\n",
    "# ans: 0.369"
   ]
  },
  {
   "cell_type": "code",
   "execution_count": 82,
   "metadata": {},
   "outputs": [
    {
     "data": {
      "text/plain": [
       "0.16326530612244897"
      ]
     },
     "execution_count": 82,
     "metadata": {},
     "output_type": "execute_result"
    }
   ],
   "source": [
    "# 12 - What proportion of interviewees who answered the Tried.Masking.Identity question have tried masking\n",
    "#      their identity on the Internet?\n",
    "\n",
    "limited['Tried.Masking.Identity'].value_counts()[1] / limited['Tried.Masking.Identity'].count()\n",
    "\n",
    "# ans: 0.163"
   ]
  },
  {
   "cell_type": "code",
   "execution_count": 83,
   "metadata": {},
   "outputs": [
    {
     "data": {
      "text/plain": [
       "0.25584594222833562"
      ]
     },
     "execution_count": 83,
     "metadata": {},
     "output_type": "execute_result"
    }
   ],
   "source": [
    "# 13 - What proportion of interviewees who answered the Privacy.Laws.Effective question, \n",
    "#      find United States privacy laws effective?\n",
    "\n",
    "limited['Privacy.Laws.Effective'].value_counts()[1] / limited['Privacy.Laws.Effective'].count()"
   ]
  },
  {
   "cell_type": "code",
   "execution_count": 96,
   "metadata": {},
   "outputs": [
    {
     "data": {
      "image/png": "[encoded data removed]",
      "text/plain": [
       "<matplotlib.figure.Figure at 0x7f918f79aa20>"
      ]
     },
     "metadata": {},
     "output_type": "display_data"
    }
   ],
   "source": [
    "# 14 - Often, we are interested in whether certain characteristics of interviewees\n",
    "#      (e.g. their age or political opinions) affect their opinions on the topic of the poll\n",
    "#      (in this case, opinions on privacy).\n",
    "#      In this section, we will investigate the relationship between the characteristics Age and Smartphone\n",
    "#      and outcome variables Info.On.Internet and Tried.Masking.Identity,\n",
    "#      again using the limited data frame we built in an earlier section of this problem.\n",
    "\n",
    "#      Build a histogram of the age of interviewees. What is the best represented age group in the population?\n",
    "\n",
    "age = limited.Age[~limited.Age.isnull()]  # remove the nulls so that I can draw histogram\n",
    "sns.distplot(age, kde=False, bins=40)\n",
    "sns.plt.show()\n",
    "\n",
    "# ans: people about 60 years old"
   ]
  },
  {
   "cell_type": "code",
   "execution_count": 123,
   "metadata": {},
   "outputs": [
    {
     "data": {
      "text/plain": [
       "count    285.000000\n",
       "mean       2.922807\n",
       "std        2.449707\n",
       "min        0.000000\n",
       "25%        1.000000\n",
       "50%        3.000000\n",
       "75%        5.000000\n",
       "max       11.000000\n",
       "Name: Info.On.Internet, dtype: float64"
      ]
     },
     "execution_count": 123,
     "metadata": {},
     "output_type": "execute_result"
    }
   ],
   "source": [
    "# 15 - What is the average Info.On.Internet value for smartphone users?\n",
    "# 16 - What is the average Info.On.Internet value for non-smartphone users?\n",
    "\n",
    "\n",
    "limited[limited.Smartphone == 0]['Info.On.Internet'].describe()\n",
    "\n",
    "# ans(15): 4.368\n",
    "# ans(16): 2.923"
   ]
  },
  {
   "cell_type": "code",
   "execution_count": 161,
   "metadata": {},
   "outputs": [
    {
     "name": "stdout",
     "output_type": "stream",
     "text": [
      "0.19254658385093168\n"
     ]
    }
   ],
   "source": [
    "# 17 - What proportion of smartphone users who answered the Tried.Masking.Identity question have tried\n",
    "#      masking their identity when using the Internet?\n",
    "\n",
    "\n",
    "maskers = limited[ (limited.Smartphone == 1) & (limited['Tried.Masking.Identity'] == 1)].shape[0]  # no. of obs\n",
    "non_maskers = len(limited[ (limited.Smartphone == 1) & (limited['Tried.Masking.Identity'] == 0)] )\n",
    "\n",
    "print(maskers / (maskers + non_maskers))\n",
    "\n",
    "\n",
    "# ans: 0.193"
   ]
  },
  {
   "cell_type": "code",
   "execution_count": 165,
   "metadata": {},
   "outputs": [
    {
     "name": "stdout",
     "output_type": "stream",
     "text": [
      "0.11743772241992882\n"
     ]
    }
   ],
   "source": [
    "# 18 - What proportion of non-smartphone users who answered the Tried.Masking.Identity question have tried\n",
    "#      masking their identity when using the Internet?\n",
    "\n",
    "xx = limited[ (limited.Smartphone == 0) & (limited['Tried.Masking.Identity'] == 1) ].shape[0]\n",
    "yy = limited[ (limited.Smartphone == 0) & (limited['Tried.Masking.Identity'] == 0)].shape[0]\n",
    "\n",
    "print(xx / (xx + yy))\n",
    "\n",
    "# ans: 0.117"
   ]
  }
 ],
 "metadata": {
  "kernelspec": {
   "display_name": "Python 3",
   "language": "python",
   "name": "python3"
  },
  "language_info": {
   "codemirror_mode": {
    "name": "ipython",
    "version": 3
   },
   "file_extension": ".py",
   "mimetype": "text/x-python",
   "name": "python",
   "nbconvert_exporter": "python",
   "pygments_lexer": "ipython3",
   "version": "3.6.1"
  }
 },
 "nbformat": 4,
 "nbformat_minor": 2
}
