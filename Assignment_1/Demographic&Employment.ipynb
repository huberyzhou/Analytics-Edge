{
 "cells": [
  {
   "cell_type": "markdown",
   "metadata": {},
   "source": [
    "<h1 align='center'>Demographics and Employment in the united states</h1>\n",
    "\n",
    "<!--<img style='width: 250px' src='http://www.asianwarrior.com/wp-content/uploads/2016/07/Changing-demographics.jpg'/>\n",
    "<img style='width: 250px' src='http://crownheights.org/wp-content/uploads/2016/10/employment_law_panel.jpg'/> !-->\n",
    "\n",
    "<table><tr><td><img src='http://www.asianwarrior.com/wp-content/uploads/2016/07/Changing-demographics.jpg'></td><td><img src='http://crownheights.org/wp-content/uploads/2016/10/employment_law_panel.jpg'></td></tr></table>\n",
    "\n",
    "In the wake of the Great Recession of 2009, there has been a good deal of focus on employment statistics, one of the most important metrics policymakers use to gauge the overall strength of the economy. In the United States, the government measures unemployment using the Current Population Survey (CPS), which collects demographic and employment information from a wide range of Americans each month. In this exercise, we will employ the topics reviewed in the lectures as well as a few new techniques using the September 2013 version of this rich, nationally representative dataset (available online).\n",
    "\n",
    "The observations in the dataset represent people surveyed in the September 2013 CPS who actually completed a survey. While the full dataset has 385 variables, in this exercise we will use a more compact version of the dataset, CPSData.csv, which has the following variables:\n",
    "\n",
    "**PeopleInHousehold**: The number of people in the interviewee's household.\n",
    "\n",
    "**Region**: The census region where the interviewee lives.\n",
    "\n",
    "**State**: The state where the interviewee lives.\n",
    "\n",
    "**MetroAreaCode**: A code that identifies the metropolitan area in which the interviewee lives (missing if the interviewee does not live in a metropolitan area). The mapping from codes to names of metropolitan areas is provided in the file MetroAreaCodes.csv.\n",
    "\n",
    "**Age**: The age, in years, of the interviewee. 80 represents people aged 80-84, and 85 represents people aged 85 and higher.\n",
    "\n",
    "**Married**: The marriage status of the interviewee.\n",
    "\n",
    "**Sex**: The sex of the interviewee.\n",
    "\n",
    "**Education**: The maximum level of education obtained by the interviewee.\n",
    "\n",
    "**Race**: The race of the interviewee.\n",
    "\n",
    "**Hispanic**: Whether the interviewee is of Hispanic ethnicity.\n",
    "\n",
    "**CountryOfBirthCode**: A code identifying the country of birth of the interviewee. The mapping from codes to names of countries is provided in the file CountryCodes.csv.\n",
    "\n",
    "**Citizenship**: The United States citizenship status of the interviewee.\n",
    "\n",
    "**EmploymentStatus**: The status of employment of the interviewee.\n",
    "\n",
    "**Industry**: The industry of employment of the interviewee (only available if they are employed)."
   ]
  },
  {
   "cell_type": "code",
   "execution_count": 4,
   "metadata": {
    "collapsed": true
   },
   "outputs": [],
   "source": [
    "import numpy as np\n",
    "import pandas as pd\n",
    "import matplotlib.pyplot as plt\n",
    "import seaborn as sns\n",
    "plt.style.use('fivethirtyeight')"
   ]
  },
  {
   "cell_type": "code",
   "execution_count": 5,
   "metadata": {
    "collapsed": true
   },
   "outputs": [],
   "source": [
    "cps = pd.read_csv('data/CPSData.csv')"
   ]
  },
  {
   "cell_type": "markdown",
   "metadata": {},
   "source": [
    "<h1 align='center'>Getting to know the data</h1>"
   ]
  },
  {
   "cell_type": "code",
   "execution_count": 6,
   "metadata": {},
   "outputs": [
    {
     "data": {
      "text/html": [
       "<div>\n",
       "<style>\n",
       "    .dataframe thead tr:only-child th {\n",
       "        text-align: right;\n",
       "    }\n",
       "\n",
       "    .dataframe thead th {\n",
       "        text-align: left;\n",
       "    }\n",
       "\n",
       "    .dataframe tbody tr th {\n",
       "        vertical-align: top;\n",
       "    }\n",
       "</style>\n",
       "<table border=\"1\" class=\"dataframe\">\n",
       "  <thead>\n",
       "    <tr style=\"text-align: right;\">\n",
       "      <th></th>\n",
       "      <th>PeopleInHousehold</th>\n",
       "      <th>Region</th>\n",
       "      <th>State</th>\n",
       "      <th>MetroAreaCode</th>\n",
       "      <th>Age</th>\n",
       "      <th>Married</th>\n",
       "      <th>Sex</th>\n",
       "      <th>Education</th>\n",
       "      <th>Race</th>\n",
       "      <th>Hispanic</th>\n",
       "      <th>CountryOfBirthCode</th>\n",
       "      <th>Citizenship</th>\n",
       "      <th>EmploymentStatus</th>\n",
       "      <th>Industry</th>\n",
       "    </tr>\n",
       "  </thead>\n",
       "  <tbody>\n",
       "    <tr>\n",
       "      <th>0</th>\n",
       "      <td>1</td>\n",
       "      <td>South</td>\n",
       "      <td>Alabama</td>\n",
       "      <td>26620.0</td>\n",
       "      <td>85</td>\n",
       "      <td>Widowed</td>\n",
       "      <td>Female</td>\n",
       "      <td>Associate degree</td>\n",
       "      <td>White</td>\n",
       "      <td>0</td>\n",
       "      <td>57</td>\n",
       "      <td>Citizen, Native</td>\n",
       "      <td>Retired</td>\n",
       "      <td>NaN</td>\n",
       "    </tr>\n",
       "    <tr>\n",
       "      <th>1</th>\n",
       "      <td>3</td>\n",
       "      <td>South</td>\n",
       "      <td>Alabama</td>\n",
       "      <td>13820.0</td>\n",
       "      <td>21</td>\n",
       "      <td>Never Married</td>\n",
       "      <td>Male</td>\n",
       "      <td>High school</td>\n",
       "      <td>Black</td>\n",
       "      <td>0</td>\n",
       "      <td>57</td>\n",
       "      <td>Citizen, Native</td>\n",
       "      <td>Unemployed</td>\n",
       "      <td>Professional and business services</td>\n",
       "    </tr>\n",
       "    <tr>\n",
       "      <th>2</th>\n",
       "      <td>3</td>\n",
       "      <td>South</td>\n",
       "      <td>Alabama</td>\n",
       "      <td>13820.0</td>\n",
       "      <td>37</td>\n",
       "      <td>Never Married</td>\n",
       "      <td>Female</td>\n",
       "      <td>High school</td>\n",
       "      <td>Black</td>\n",
       "      <td>0</td>\n",
       "      <td>57</td>\n",
       "      <td>Citizen, Native</td>\n",
       "      <td>Disabled</td>\n",
       "      <td>NaN</td>\n",
       "    </tr>\n",
       "    <tr>\n",
       "      <th>3</th>\n",
       "      <td>3</td>\n",
       "      <td>South</td>\n",
       "      <td>Alabama</td>\n",
       "      <td>13820.0</td>\n",
       "      <td>18</td>\n",
       "      <td>Never Married</td>\n",
       "      <td>Male</td>\n",
       "      <td>No high school diploma</td>\n",
       "      <td>Black</td>\n",
       "      <td>0</td>\n",
       "      <td>57</td>\n",
       "      <td>Citizen, Native</td>\n",
       "      <td>Not in Labor Force</td>\n",
       "      <td>NaN</td>\n",
       "    </tr>\n",
       "    <tr>\n",
       "      <th>4</th>\n",
       "      <td>3</td>\n",
       "      <td>South</td>\n",
       "      <td>Alabama</td>\n",
       "      <td>26620.0</td>\n",
       "      <td>52</td>\n",
       "      <td>Widowed</td>\n",
       "      <td>Female</td>\n",
       "      <td>Associate degree</td>\n",
       "      <td>White</td>\n",
       "      <td>0</td>\n",
       "      <td>57</td>\n",
       "      <td>Citizen, Native</td>\n",
       "      <td>Employed</td>\n",
       "      <td>Professional and business services</td>\n",
       "    </tr>\n",
       "  </tbody>\n",
       "</table>\n",
       "</div>"
      ],
      "text/plain": [
       "   PeopleInHousehold Region    State  MetroAreaCode  Age        Married  \\\n",
       "0                  1  South  Alabama        26620.0   85        Widowed   \n",
       "1                  3  South  Alabama        13820.0   21  Never Married   \n",
       "2                  3  South  Alabama        13820.0   37  Never Married   \n",
       "3                  3  South  Alabama        13820.0   18  Never Married   \n",
       "4                  3  South  Alabama        26620.0   52        Widowed   \n",
       "\n",
       "      Sex               Education   Race  Hispanic  CountryOfBirthCode  \\\n",
       "0  Female        Associate degree  White         0                  57   \n",
       "1    Male             High school  Black         0                  57   \n",
       "2  Female             High school  Black         0                  57   \n",
       "3    Male  No high school diploma  Black         0                  57   \n",
       "4  Female        Associate degree  White         0                  57   \n",
       "\n",
       "       Citizenship    EmploymentStatus                            Industry  \n",
       "0  Citizen, Native             Retired                                 NaN  \n",
       "1  Citizen, Native          Unemployed  Professional and business services  \n",
       "2  Citizen, Native            Disabled                                 NaN  \n",
       "3  Citizen, Native  Not in Labor Force                                 NaN  \n",
       "4  Citizen, Native            Employed  Professional and business services  "
      ]
     },
     "execution_count": 6,
     "metadata": {},
     "output_type": "execute_result"
    }
   ],
   "source": [
    "cps.head()"
   ]
  },
  {
   "cell_type": "code",
   "execution_count": 7,
   "metadata": {},
   "outputs": [
    {
     "name": "stdout",
     "output_type": "stream",
     "text": [
      "(131302, 14)\n",
      "                       count          mean           std      min      25%  \\\n",
      "PeopleInHousehold   131302.0      3.284276      1.700173      1.0      2.0   \n",
      "MetroAreaCode        97064.0  35074.709264  16551.637597  10420.0  21780.0   \n",
      "Age                 131302.0     38.829226     22.897130      0.0     19.0   \n",
      "Hispanic            131302.0      0.139328      0.346289      0.0      0.0   \n",
      "CountryOfBirthCode  131302.0     82.684079     75.476511     57.0     57.0   \n",
      "\n",
      "                        50%      75%      max  \n",
      "PeopleInHousehold       3.0      4.0     15.0  \n",
      "MetroAreaCode       34740.0  41860.0  79600.0  \n",
      "Age                    39.0     57.0     85.0  \n",
      "Hispanic                0.0      0.0      1.0  \n",
      "CountryOfBirthCode     57.0     57.0    555.0  \n"
     ]
    }
   ],
   "source": [
    "print(cps.shape)\n",
    "print(cps.describe().T)"
   ]
  },
  {
   "cell_type": "code",
   "execution_count": 8,
   "metadata": {},
   "outputs": [
    {
     "name": "stdout",
     "output_type": "stream",
     "text": [
      "PeopleInHousehold       int64\n",
      "Region                 object\n",
      "State                  object\n",
      "MetroAreaCode         float64\n",
      "Age                     int64\n",
      "Married                object\n",
      "Sex                    object\n",
      "Education              object\n",
      "Race                   object\n",
      "Hispanic                int64\n",
      "CountryOfBirthCode      int64\n",
      "Citizenship            object\n",
      "EmploymentStatus       object\n",
      "Industry               object\n",
      "dtype: object\n"
     ]
    }
   ],
   "source": [
    "print(cps.dtypes)"
   ]
  },
  {
   "cell_type": "code",
   "execution_count": 9,
   "metadata": {},
   "outputs": [
    {
     "data": {
      "text/plain": [
       "PeopleInHousehold         0\n",
       "Region                    0\n",
       "State                     0\n",
       "MetroAreaCode         34238\n",
       "Age                       0\n",
       "Married               25338\n",
       "Sex                       0\n",
       "Education             25338\n",
       "Race                      0\n",
       "Hispanic                  0\n",
       "CountryOfBirthCode        0\n",
       "Citizenship               0\n",
       "EmploymentStatus      25789\n",
       "Industry              65060\n",
       "dtype: int64"
      ]
     },
     "execution_count": 9,
     "metadata": {},
     "output_type": "execute_result"
    }
   ],
   "source": [
    "cps.isnull().sum()"
   ]
  },
  {
   "cell_type": "markdown",
   "metadata": {},
   "source": [
    "<h1 align=center>Assignment Questions</h1>"
   ]
  },
  {
   "cell_type": "code",
   "execution_count": 10,
   "metadata": {},
   "outputs": [
    {
     "name": "stdout",
     "output_type": "stream",
     "text": [
      "131302\n"
     ]
    }
   ],
   "source": [
    "# 1 - How many interviewees are in the dataset?\n",
    "print(cps.shape[0])"
   ]
  },
  {
   "cell_type": "code",
   "execution_count": 11,
   "metadata": {},
   "outputs": [
    {
     "data": {
      "text/plain": [
       "Educational and health services                15017\n",
       "Trade                                           8933\n",
       "Professional and business services              7519\n",
       "Manufacturing                                   6791\n",
       "Leisure and hospitality                         6364\n",
       "Construction                                    4387\n",
       "Financial                                       4347\n",
       "Transportation and utilities                    3260\n",
       "Other services                                  3224\n",
       "Public administration                           3186\n",
       "Information                                     1328\n",
       "Agriculture, forestry, fishing, and hunting     1307\n",
       "Mining                                           550\n",
       "Armed forces                                      29\n",
       "Name: Industry, dtype: int64"
      ]
     },
     "execution_count": 11,
     "metadata": {},
     "output_type": "execute_result"
    }
   ],
   "source": [
    "# 2 - Among the interviewees with a value reported for the Industry variable, what is the most common industry of employment?\n",
    "# Please enter the name exactly how you see it.\n",
    "cps.Industry.value_counts()\n",
    "\n",
    "# ans: Educational and health services"
   ]
  },
  {
   "cell_type": "code",
   "execution_count": 12,
   "metadata": {},
   "outputs": [
    {
     "data": {
      "text/plain": [
       "California              11570\n",
       "Texas                    7077\n",
       "New York                 5595\n",
       "Florida                  5149\n",
       "Pennsylvania             3930\n",
       "Illinois                 3912\n",
       "Ohio                     3678\n",
       "Maryland                 3200\n",
       "Minnesota                3139\n",
       "Michigan                 3063\n",
       "Virginia                 2953\n",
       "Colorado                 2925\n",
       "Connecticut              2836\n",
       "Georgia                  2807\n",
       "Wisconsin                2686\n",
       "New Hampshire            2662\n",
       "North Carolina           2619\n",
       "New Jersey               2567\n",
       "Iowa                     2528\n",
       "Washington               2366\n",
       "Maine                    2263\n",
       "Delaware                 2214\n",
       "Rhode Island             2209\n",
       "Missouri                 2145\n",
       "Hawaii                   2099\n",
       "Indiana                  2004\n",
       "South Dakota             2000\n",
       "Massachusetts            1987\n",
       "Nebraska                 1949\n",
       "Oregon                   1943\n",
       "Kansas                   1935\n",
       "Vermont                  1890\n",
       "Nevada                   1856\n",
       "Utah                     1842\n",
       "Kentucky                 1841\n",
       "District of Columbia     1791\n",
       "Tennessee                1784\n",
       "South Carolina           1658\n",
       "North Dakota             1645\n",
       "Wyoming                  1624\n",
       "Alaska                   1590\n",
       "Arizona                  1528\n",
       "Oklahoma                 1523\n",
       "Idaho                    1518\n",
       "Louisiana                1450\n",
       "Arkansas                 1421\n",
       "West Virginia            1409\n",
       "Alabama                  1376\n",
       "Mississippi              1230\n",
       "Montana                  1214\n",
       "New Mexico               1102\n",
       "Name: State, dtype: int64"
      ]
     },
     "execution_count": 12,
     "metadata": {},
     "output_type": "execute_result"
    }
   ],
   "source": [
    "# 3 - Which state has the fewest interviewees?\n",
    "# 4 - Which state has the largest number of interviewees?\n",
    "\n",
    "cps.State.value_counts()\n",
    "\n",
    "# ans(3): New Mexico\n",
    "# ans(4): California"
   ]
  },
  {
   "cell_type": "code",
   "execution_count": 13,
   "metadata": {},
   "outputs": [
    {
     "name": "stdout",
     "output_type": "stream",
     "text": [
      "Citizen, Native         116639\n",
      "Non-Citizen               7590\n",
      "Citizen, Naturalized      7073\n",
      "Name: Citizenship, dtype: int64\n",
      "\n",
      "Total number of citizens interviewed: 0.9421943306271039\n"
     ]
    }
   ],
   "source": [
    "# 5 - What proportion of interviewees are citizens of the United States? (proportion: [0, 1])\n",
    "\n",
    "value_count = cps.Citizenship.value_counts()  # save into a variable to avoid repetition\n",
    "print(value_count, end='\\n\\n')\n",
    "\n",
    "total_citizens = value_count[value_count.index.str.startswith('Citizen')].sum()  # 116639 + 7073\n",
    "print(f'Total number of citizens interviewed: {total_citizens / value_count.values.sum()}')"
   ]
  },
  {
   "cell_type": "code",
   "execution_count": 14,
   "metadata": {},
   "outputs": [
    {
     "data": {
      "text/plain": [
       "White               16731\n",
       "Black                 621\n",
       "Multiracial           448\n",
       "American Indian       304\n",
       "Asian                 113\n",
       "Pacific Islander       77\n",
       "Name: Race, dtype: int64"
      ]
     },
     "execution_count": 14,
     "metadata": {},
     "output_type": "execute_result"
    }
   ],
   "source": [
    "# 6 - The CPS differentiates between race (with possible values American Indian, Asian, Black,\n",
    "# Pacific Islander, White, or Multiracial) and ethnicity.\n",
    "# A number of interviewees are of Hispanic ethnicity, as captured by the Hispanic variable.\n",
    "\n",
    "# For which races are there at least 250 interviewees in the CPS dataset of Hispanic ethnicity?\n",
    "\n",
    "cps.Race[cps.Hispanic == 1].value_counts()\n",
    "\n",
    "# ans: White, Black, Multiracial, American Indian"
   ]
  },
  {
   "cell_type": "code",
   "execution_count": 15,
   "metadata": {},
   "outputs": [
    {
     "data": {
      "text/plain": [
       "Race              Hispanic\n",
       "American Indian   0            1129\n",
       "                  1             304\n",
       "Asian             0            6407\n",
       "                  1             113\n",
       "Black             0           13292\n",
       "                  1             621\n",
       "Multiracial       0            2449\n",
       "                  1             448\n",
       "Pacific Islander  0             541\n",
       "                  1              77\n",
       "White             0           89190\n",
       "                  1           16731\n",
       "dtype: int64"
      ]
     },
     "execution_count": 15,
     "metadata": {},
     "output_type": "execute_result"
    }
   ],
   "source": [
    "# Similar answer but not as clear (Must look for Hispanic entries where Race is 1)\n",
    "cps.groupby(['Race', 'Hispanic']).size()"
   ]
  },
  {
   "cell_type": "code",
   "execution_count": 16,
   "metadata": {},
   "outputs": [
    {
     "data": {
      "text/plain": [
       "PeopleInHousehold         0\n",
       "Region                    0\n",
       "State                     0\n",
       "MetroAreaCode         34238\n",
       "Age                       0\n",
       "Married               25338\n",
       "Sex                       0\n",
       "Education             25338\n",
       "Race                      0\n",
       "Hispanic                  0\n",
       "CountryOfBirthCode        0\n",
       "Citizenship               0\n",
       "EmploymentStatus      25789\n",
       "Industry              65060\n",
       "dtype: int64"
      ]
     },
     "execution_count": 16,
     "metadata": {},
     "output_type": "execute_result"
    }
   ],
   "source": [
    "# 7 - Which variables have at least one interviewee with a missing (NA) value?\n",
    "cps.isnull().sum()"
   ]
  },
  {
   "cell_type": "code",
   "execution_count": 17,
   "metadata": {},
   "outputs": [
    {
     "data": {
      "image/png": "[encoded data removed]",
      "text/plain": [
       "<matplotlib.figure.Figure at 0x7f1f089d9358>"
      ]
     },
     "metadata": {},
     "output_type": "display_data"
    }
   ],
   "source": [
    "# 8 - Often when evaluating a new dataset, we try to identify if there is a pattern in the missing values in the dataset.\n",
    "# We will try to determine if there is a pattern in the missing values of the Married variable.\n",
    "# Which column is related to the missing values in the Married column\n",
    "\n",
    "\n",
    "fig, axes = plt.subplots(2, 2, figsize=(12, 10))\n",
    "for index, column in zip(range(4), ['Region', 'Sex', 'Age', 'Citizenship']):\n",
    "    value_count = cps[column][cps.Married.isnull()].value_counts()\n",
    "    ax = fig.add_subplot(2, 2, index+1)\n",
    "    value_count.plot(kind='bar', ax=ax, title='Null Marrige vs {}'.format(column))\n",
    "    ax.set_xlabel(column)\n",
    "    ax.set_ylabel('Total null entries')\n",
    "plt.tight_layout()\n",
    "plt.show()\n",
    "\n",
    "# for column in ['Region', 'Sex', 'Age', 'Citizenship']:\n",
    "#     fig = plt.figure()\n",
    "#     cps[column][cps.Married.isnull()].value_counts().plot(kind='barh')\n",
    "# plt.show()\n",
    "\n",
    "\n",
    "# ans: According to my eyes I see a relation with the the Citizenship column. It seems to me that the native citizens\n",
    "#      have much more null values in the Married column\n",
    "#      However, the answer in the course is only refering to the Age column.\n",
    "#      Interviewees between the ages of (0, 14) have null values for the married column.\n",
    "#      Because of their young ages, they are not asked that question to beging with"
   ]
  },
  {
   "cell_type": "code",
   "execution_count": 18,
   "metadata": {},
   "outputs": [
    {
     "data": {
      "image/png": "[encoded data removed]",
      "text/plain": [
       "<matplotlib.figure.Figure at 0x7f1ed8be8160>"
      ]
     },
     "metadata": {},
     "output_type": "display_data"
    }
   ],
   "source": [
    "# Same question using seaborn\n",
    "fig, axes = plt.subplots(2, 2, figsize=(12, 10))\n",
    "\n",
    "for i, j in zip(range(4), ['Region', 'Age', 'Citizenship', 'Sex']):\n",
    "    ax = fig.add_subplot(2, 2, i+1)\n",
    "    sns.barplot(x=cps[j], y=cps.Married.isnull(), ax=ax)\n",
    "sns.plt.tight_layout()\n",
    "sns.plt.show()"
   ]
  },
  {
   "cell_type": "code",
   "execution_count": 19,
   "metadata": {},
   "outputs": [
    {
     "name": "stdout",
     "output_type": "stream",
     "text": [
      "1624\n",
      "1590\n",
      "Wyoming\tAlaska\n",
      "\n",
      "2567\n",
      "2209\n",
      "1791\n",
      "New Jersey\tRhode Island\tDistrict of Columbia\n"
     ]
    }
   ],
   "source": [
    "# 9 - MetroAreaCode is missing if an interviewee does not live in a metropolitan area.\n",
    "# Using the same technique as in the previous question, answer the following questions about\n",
    "# people who live in non-metropolitan areas.\n",
    "\n",
    "# 9.1 - How many states had all interviewees living in a non-metropolitan area (aka they have a missing MetroAreaCode value)?\n",
    "# For this question, treat the District of Columbia as a state (even though it is not technically a state).\n",
    "\n",
    "x = cps.State[cps.MetroAreaCode.isnull()].value_counts()\n",
    "y = cps.State.value_counts()\n",
    "\n",
    "for i in x:\n",
    "    for j in y:\n",
    "        if i == j:\n",
    "            print(i)\n",
    "print(y[y == 1624].index[0], y[y == 1590].index[0], sep='\\t', end='\\n\\n')  \n",
    "\n",
    "# ans(9.1): 2 -> Wyoming and Alaska\n",
    "\n",
    "# 9.2 - How many states had all interviewees living in a metropolitan area? Again, treat the District of Columbia as a state.\n",
    "z = cps.MetroAreaCode.value_counts()\n",
    "s = cps.State[~cps.MetroAreaCode.isnull()].value_counts()\n",
    "\n",
    "for i in s:\n",
    "    for j in y:\n",
    "        if i == j:\n",
    "            print(i)\n",
    "            \n",
    "print(s[s == 2567].index[0], s[s == 2209].index[0], s[s == 1791].index[0], sep='\\t')"
   ]
  },
  {
   "cell_type": "code",
   "execution_count": 23,
   "metadata": {},
   "outputs": [
    {
     "data": {
      "text/plain": [
       "Midwest      10674\n",
       "South         9871\n",
       "West          8084\n",
       "Northeast     5609\n",
       "Name: Region, dtype: int64"
      ]
     },
     "execution_count": 23,
     "metadata": {},
     "output_type": "execute_result"
    }
   ],
   "source": [
    "# 10 - Which region of the United States has the largest proportion of interviewees living in a non-metropolitan area?\n",
    "cps.Region[cps.MetroAreaCode.isnull()].value_counts()\n",
    "\n",
    "# ans: Midwest"
   ]
  },
  {
   "cell_type": "code",
   "execution_count": 177,
   "metadata": {},
   "outputs": [
    {
     "name": "stdout",
     "output_type": "stream",
     "text": [
      "Wyoming              100.0\n",
      "Alaska               100.0\n",
      "New Hampshire        56.874530428249436\n",
      "South Dakota         70.25\n",
      "Maine                59.83208130799823\n",
      "Vermont              65.23809523809524\n",
      "Iowa                 48.69462025316456\n",
      "North Dakota         73.73860182370821\n",
      "Nebraska             58.132375577219086\n",
      "West Virginia        75.58552164655784\n",
      "Texas                14.37049597286986\n",
      "Montana              83.60790774299835\n",
      "Minnesota            31.506849315068493\n",
      "North Carolina       37.30431462390225\n",
      "Kentucky             50.678978815860944\n",
      "Ohio                 25.122349102773246\n",
      "Mississippi          69.4308943089431\n",
      "Wisconsin            29.932985852568876\n",
      "Idaho                49.86824769433465\n",
      "Missouri             32.86713286713287\n",
      "Kansas               36.22739018087856\n",
      "Arkansas             49.04996481351161\n",
      "Pennsylvania         17.43002544529262\n",
      "Tennessee            35.59417040358744\n",
      "Virginia             19.844226210633252\n",
      "Indiana              29.141716566866265\n",
      "Georgia              19.843249020306377\n",
      "Michigan             17.8256611165524\n",
      "Hawaii               24.916626965221532\n",
      "South Carolina       31.30277442702051\n",
      "Delaware             23.396567299006325\n",
      "Oklahoma             32.76428102429416\n",
      "New York             8.06076854334227\n",
      "Illinois             11.221881390593047\n",
      "Washington           18.13186813186813\n",
      "Oregon               21.82192485846629\n",
      "Utah                 21.009771986970684\n",
      "Colorado             12.991452991452993\n",
      "Alabama              25.872093023255815\n",
      "New Mexico           24.500907441016334\n",
      "Nevada               13.308189655172415\n",
      "Connecticut          8.568406205923838\n",
      "California           2.0484010371650823\n",
      "Louisiana            16.137931034482758\n",
      "Maryland             6.937500000000001\n",
      "Florida              3.923091862497572\n",
      "Arizona              13.154450261780104\n",
      "Massachusetts        6.492199295420232\n"
     ]
    }
   ],
   "source": [
    "# 11 - Which state has a proportion of interviewees living in a non-metropolitan area closest to 30%?\n",
    "# 12 - Which state has the largest proportion of non-metropolitan interviewees, ignoring states\n",
    "#      where all interviewees were non-metropolitan?\n",
    "\n",
    "\n",
    "# total number of people living in non-metropolitan area in each state\n",
    "val_counts = cps.State[cps.MetroAreaCode.isnull()].value_counts()\n",
    "\n",
    "# total number of people living in the state\n",
    "s = cps.State.value_counts()\n",
    "\n",
    "for i in val_counts.index:\n",
    "    print(f'{i:20} {val_counts[i] / s[i] * 100}')\n",
    "    \n",
    "# ans(11): Wisconsin\n",
    "# ans(12): Montana"
   ]
  },
  {
   "cell_type": "code",
   "execution_count": 176,
   "metadata": {},
   "outputs": [
    {
     "name": "stdout",
     "output_type": "stream",
     "text": [
      "(271, 2)\n",
      "(149, 2)\n"
     ]
    }
   ],
   "source": [
    "# Codes like MetroAreaCode and CountryOfBirthCode are a compact way to encode factor variables with text\n",
    "# as their possible values, and they are therefore quite common in survey datasets.\n",
    "# In fact, all but one of the variables in this dataset were actually stored by a numeric code\n",
    "# in the original CPS datafile.\n",
    "\n",
    "# When analyzing a variable stored by a numeric code, we will often want to convert it into the values\n",
    "# the codes represent. To do this, we will use a dictionary, which maps the the code to the actual value\n",
    "# of the variable. We have provided dictionaries MetroAreaCodes.csv and CountryCodes.csv, which respectively\n",
    "# map MetroAreaCode and CountryOfBirthCode into their true values. Read these two dictionaries into data\n",
    "# frames MetroAreaMap and CountryMap.\n",
    "\n",
    "\n",
    "# 13 - How many observations (codes for metropolitan areas) are there in MetroAreaMap?\n",
    "# 14 - How many observations (codes for countries) are there in CountryMap?\n",
    "\n",
    "\n",
    "metro = pd.read_csv('data/MetroAreaCodes.csv')\n",
    "\n",
    "print(metro.shape)\n",
    "print(country.shape)"
   ]
  },
  {
   "cell_type": "code",
   "execution_count": 123,
   "metadata": {},
   "outputs": [
    {
     "data": {
      "text/html": [
       "<div>\n",
       "<style>\n",
       "    .dataframe thead tr:only-child th {\n",
       "        text-align: right;\n",
       "    }\n",
       "\n",
       "    .dataframe thead th {\n",
       "        text-align: left;\n",
       "    }\n",
       "\n",
       "    .dataframe tbody tr th {\n",
       "        vertical-align: top;\n",
       "    }\n",
       "</style>\n",
       "<table border=\"1\" class=\"dataframe\">\n",
       "  <thead>\n",
       "    <tr style=\"text-align: right;\">\n",
       "      <th></th>\n",
       "      <th>PeopleInHousehold</th>\n",
       "      <th>Region</th>\n",
       "      <th>State</th>\n",
       "      <th>MetroAreaCode</th>\n",
       "      <th>Age</th>\n",
       "      <th>Married</th>\n",
       "      <th>Sex</th>\n",
       "      <th>Education</th>\n",
       "      <th>Race</th>\n",
       "      <th>Hispanic</th>\n",
       "      <th>CountryOfBirthCode</th>\n",
       "      <th>Citizenship</th>\n",
       "      <th>EmploymentStatus</th>\n",
       "      <th>Industry</th>\n",
       "      <th>Code</th>\n",
       "      <th>MetroArea</th>\n",
       "    </tr>\n",
       "  </thead>\n",
       "  <tbody>\n",
       "    <tr>\n",
       "      <th>0</th>\n",
       "      <td>1</td>\n",
       "      <td>South</td>\n",
       "      <td>Alabama</td>\n",
       "      <td>26620</td>\n",
       "      <td>85</td>\n",
       "      <td>Widowed</td>\n",
       "      <td>Female</td>\n",
       "      <td>Associate degree</td>\n",
       "      <td>White</td>\n",
       "      <td>0</td>\n",
       "      <td>57</td>\n",
       "      <td>Citizen, Native</td>\n",
       "      <td>Retired</td>\n",
       "      <td>NaN</td>\n",
       "      <td>26620.0</td>\n",
       "      <td>Huntsville, AL</td>\n",
       "    </tr>\n",
       "    <tr>\n",
       "      <th>1</th>\n",
       "      <td>3</td>\n",
       "      <td>South</td>\n",
       "      <td>Alabama</td>\n",
       "      <td>13820</td>\n",
       "      <td>21</td>\n",
       "      <td>Never Married</td>\n",
       "      <td>Male</td>\n",
       "      <td>High school</td>\n",
       "      <td>Black</td>\n",
       "      <td>0</td>\n",
       "      <td>57</td>\n",
       "      <td>Citizen, Native</td>\n",
       "      <td>Unemployed</td>\n",
       "      <td>Professional and business services</td>\n",
       "      <td>13820.0</td>\n",
       "      <td>Birmingham-Hoover, AL</td>\n",
       "    </tr>\n",
       "    <tr>\n",
       "      <th>2</th>\n",
       "      <td>3</td>\n",
       "      <td>South</td>\n",
       "      <td>Alabama</td>\n",
       "      <td>13820</td>\n",
       "      <td>37</td>\n",
       "      <td>Never Married</td>\n",
       "      <td>Female</td>\n",
       "      <td>High school</td>\n",
       "      <td>Black</td>\n",
       "      <td>0</td>\n",
       "      <td>57</td>\n",
       "      <td>Citizen, Native</td>\n",
       "      <td>Disabled</td>\n",
       "      <td>NaN</td>\n",
       "      <td>13820.0</td>\n",
       "      <td>Birmingham-Hoover, AL</td>\n",
       "    </tr>\n",
       "    <tr>\n",
       "      <th>3</th>\n",
       "      <td>3</td>\n",
       "      <td>South</td>\n",
       "      <td>Alabama</td>\n",
       "      <td>13820</td>\n",
       "      <td>18</td>\n",
       "      <td>Never Married</td>\n",
       "      <td>Male</td>\n",
       "      <td>No high school diploma</td>\n",
       "      <td>Black</td>\n",
       "      <td>0</td>\n",
       "      <td>57</td>\n",
       "      <td>Citizen, Native</td>\n",
       "      <td>Not in Labor Force</td>\n",
       "      <td>NaN</td>\n",
       "      <td>13820.0</td>\n",
       "      <td>Birmingham-Hoover, AL</td>\n",
       "    </tr>\n",
       "    <tr>\n",
       "      <th>4</th>\n",
       "      <td>3</td>\n",
       "      <td>South</td>\n",
       "      <td>Alabama</td>\n",
       "      <td>26620</td>\n",
       "      <td>52</td>\n",
       "      <td>Widowed</td>\n",
       "      <td>Female</td>\n",
       "      <td>Associate degree</td>\n",
       "      <td>White</td>\n",
       "      <td>0</td>\n",
       "      <td>57</td>\n",
       "      <td>Citizen, Native</td>\n",
       "      <td>Employed</td>\n",
       "      <td>Professional and business services</td>\n",
       "      <td>26620.0</td>\n",
       "      <td>Huntsville, AL</td>\n",
       "    </tr>\n",
       "  </tbody>\n",
       "</table>\n",
       "</div>"
      ],
      "text/plain": [
       "   PeopleInHousehold Region    State MetroAreaCode  Age        Married  \\\n",
       "0                  1  South  Alabama         26620   85        Widowed   \n",
       "1                  3  South  Alabama         13820   21  Never Married   \n",
       "2                  3  South  Alabama         13820   37  Never Married   \n",
       "3                  3  South  Alabama         13820   18  Never Married   \n",
       "4                  3  South  Alabama         26620   52        Widowed   \n",
       "\n",
       "      Sex               Education   Race  Hispanic  CountryOfBirthCode  \\\n",
       "0  Female        Associate degree  White         0                  57   \n",
       "1    Male             High school  Black         0                  57   \n",
       "2  Female             High school  Black         0                  57   \n",
       "3    Male  No high school diploma  Black         0                  57   \n",
       "4  Female        Associate degree  White         0                  57   \n",
       "\n",
       "       Citizenship    EmploymentStatus                            Industry  \\\n",
       "0  Citizen, Native             Retired                                 NaN   \n",
       "1  Citizen, Native          Unemployed  Professional and business services   \n",
       "2  Citizen, Native            Disabled                                 NaN   \n",
       "3  Citizen, Native  Not in Labor Force                                 NaN   \n",
       "4  Citizen, Native            Employed  Professional and business services   \n",
       "\n",
       "      Code              MetroArea  \n",
       "0  26620.0         Huntsville, AL  \n",
       "1  13820.0  Birmingham-Hoover, AL  \n",
       "2  13820.0  Birmingham-Hoover, AL  \n",
       "3  13820.0  Birmingham-Hoover, AL  \n",
       "4  26620.0         Huntsville, AL  "
      ]
     },
     "execution_count": 123,
     "metadata": {},
     "output_type": "execute_result"
    }
   ],
   "source": [
    "# To merge in the metropolitan areas,\n",
    "# we want to connect the field MetroAreaCode from the CPS data frame with the field Code in MetroAreaMap. \n",
    "\n",
    "\n",
    "merged = pd.merge(cps, metro, how='left', left_on='MetroAreaCode', right_on='Code')\n",
    "merged.head()"
   ]
  },
  {
   "cell_type": "code",
   "execution_count": null,
   "metadata": {
    "collapsed": true
   },
   "outputs": [],
   "source": [
    "# 15 - What is the name of the variable that was added to the data frame by the merge() operation?\n",
    "\n",
    "# ans: actually two columns have been added, Code and MetroArea. But Code is the exact copy of MetroAreaCode\n",
    "# So MetroArea is the column that adds new information to the dataframe"
   ]
  },
  {
   "cell_type": "code",
   "execution_count": 124,
   "metadata": {},
   "outputs": [
    {
     "data": {
      "text/plain": [
       "False    97064\n",
       "True     34238\n",
       "Name: MetroArea, dtype: int64"
      ]
     },
     "execution_count": 124,
     "metadata": {},
     "output_type": "execute_result"
    }
   ],
   "source": [
    "# 16 - How many interviewees have a missing value for the new metropolitan area variable?\n",
    "\n",
    "\n",
    "merged.MetroArea.isnull().value_counts()\n",
    "\n",
    "# ans : 34238"
   ]
  },
  {
   "cell_type": "code",
   "execution_count": 130,
   "metadata": {},
   "outputs": [
    {
     "name": "stdout",
     "output_type": "stream",
     "text": [
      "1552\n",
      "1483\n",
      "2229\n",
      "1386\n"
     ]
    }
   ],
   "source": [
    "# 17 - Which of the following metropolitan areas has the largest number of interviewees?\n",
    "\n",
    "\n",
    "val_counts = merged.MetroArea[~merged.MetroArea.isnull()].value_counts()\n",
    "\n",
    "print(val_counts['Atlanta-Sandy Springs-Marietta, GA'])\n",
    "print(val_counts['Baltimore-Towson, MD'])\n",
    "print(val_counts['Boston-Cambridge-Quincy, MA-NH'])\n",
    "print(val_counts['San Francisco-Oakland-Fremont, CA'])\n",
    "\n",
    "# ans: Boston-Cambridge-Quincy with 2229 interviewees"
   ]
  },
  {
   "cell_type": "code",
   "execution_count": 178,
   "metadata": {},
   "outputs": [
    {
     "data": {
      "text/plain": [
       "MetroArea\n",
       "Laredo, TX                               96.629213\n",
       "McAllen-Edinburg-Pharr, TX               94.871795\n",
       "Brownsville-Harlingen, TX                79.746835\n",
       "El Paso, TX                              79.098361\n",
       "El Centro, CA                            68.686869\n",
       "San Antonio, TX                          64.415157\n",
       "Madera, CA                               61.403509\n",
       "Corpus Christi, TX                       60.606061\n",
       "Merced, CA                               56.603774\n",
       "Salinas, CA                              55.769231\n",
       "Las Cruses, NM                           54.205607\n",
       "Tucson, AZ                               50.662252\n",
       "Riverside-San Bernardino, CA             50.232558\n",
       "Bakersfield, CA                          48.979592\n",
       "Miami-Fort Lauderdale-Miami Beach, FL    46.782497\n",
       "Victoria, TX                             46.551724\n",
       "Santa Fe, NM                             46.153846\n",
       "Los Angeles-Long Beach-Santa Ana, CA     46.026329\n",
       "Albuquerque, NM                          44.170772\n",
       "Cape Coral-Fort Myers, FL                43.835616\n",
       "Visalia-Porterville, CA                  43.801653\n",
       "Fresno, CA                               40.924092\n",
       "Vineland-Millville-Bridgeton, NJ         40.740741\n",
       "Santa Barbara-Santa Maria-Goleta, CA     40.151515\n",
       "Killeen-Temple-Fort Hood, TX             38.613861\n",
       "Oxnard-Thousand Oaks-Ventura, CA         35.955056\n",
       "Houston-Baytown-Sugar Land, TX           35.900546\n",
       "Yakima, WA                               35.714286\n",
       "Midland, TX                              35.294118\n",
       "Modesto, CA                              34.177215\n",
       "                                           ...    \n",
       "Portland-South Portland, ME               1.141227\n",
       "Wausau, WI                                1.041667\n",
       "Montgomery, AL                            0.970874\n",
       "Burlington-South Burlington, VT           0.913242\n",
       "Jackson, MS                               0.900901\n",
       "Appleton,WI                               0.800000\n",
       "Charleston, WV                            0.763359\n",
       "Knoxville, TN                             0.595238\n",
       "Monroe, LA                                0.558659\n",
       "Dayton, OH                                0.373134\n",
       "Warner Robins, GA                         0.000000\n",
       "Florence, AL                              0.000000\n",
       "Bowling Green, KY                         0.000000\n",
       "Mobile, AL                                0.000000\n",
       "Decatur, IL                               0.000000\n",
       "Anderson, SC                              0.000000\n",
       "Ann Arbor, MI                             0.000000\n",
       "Macon, GA                                 0.000000\n",
       "Savannah, GA                              0.000000\n",
       "Johnstown, PA                             0.000000\n",
       "Hagerstown-Martinsburg, MD-WV             0.000000\n",
       "Harrisonburg, VA                          0.000000\n",
       "Eau Claire, WI                            0.000000\n",
       "Huntington-Ashland, WV-KY-OH              0.000000\n",
       "Barnstable Town, MA                       0.000000\n",
       "Huntsville, AL                            0.000000\n",
       "Bloomington-Normal IL                     0.000000\n",
       "Bloomington, IN                           0.000000\n",
       "Jackson, MI                               0.000000\n",
       "Salisbury, MD                             0.000000\n",
       "Name: Hispanic, Length: 264, dtype: float64"
      ]
     },
     "execution_count": 178,
     "metadata": {},
     "output_type": "execute_result"
    }
   ],
   "source": [
    "# 18 - Which metropolitan area has the highest proportion of interviewees of Hispanic ethnicity? \n",
    "\n",
    "his = merged.MetroArea[merged.Hispanic == 1].value_counts()\n",
    "tot = merged.MetroArea[merged.Hispanic == 0].value_counts().sum()\n",
    "(merged.groupby('MetroArea')['Hispanic'].mean() * 100).sort_values(ascending=False)\n",
    "\n",
    "# ans: Laredo, TX with 96.6%"
   ]
  },
  {
   "cell_type": "code",
   "execution_count": 287,
   "metadata": {},
   "outputs": [
    {
     "data": {
      "text/plain": [
       "[50.190355329949242,\n",
       " 24.675324675324674,\n",
       " 24.17910447761194,\n",
       " 24.17910447761194,\n",
       " 18.481848184818482,\n",
       " 15.544041450777202,\n",
       " 15.544041450777202,\n",
       " 14.242878560719641,\n",
       " 14.222712238147739,\n",
       " 13.505607020965382]"
      ]
     },
     "execution_count": 287,
     "metadata": {},
     "output_type": "execute_result"
    }
   ],
   "source": [
    "# 19 - Determine the number of metropolitan areas in the United States from which\n",
    "#      at least 20% of interviewees are Asian.\n",
    "\n",
    "x = merged.MetroArea[merged.Race == 'Asian'].value_counts()\n",
    "y = merged.MetroArea[~merged.MetroArea.isnull()].value_counts()\n",
    "# y =  len(merged.MetroArea) - merged.MetroArea.isnull().sum()\n",
    "\n",
    "answerList = []\n",
    "\n",
    "for i in x:\n",
    "    index = x[x == i].index[0]\n",
    "    deno = y[index]\n",
    "    answerList.append(i / deno * 100)\n",
    "\n",
    "sorted(answerList)[::-1][:10]  # Just get the first ten. We only need the metro areas with greater than 20% asians\n",
    "\n",
    "\n",
    "# ans: 4"
   ]
  },
  {
   "cell_type": "code",
   "execution_count": 367,
   "metadata": {},
   "outputs": [
    {
     "name": "stdout",
     "output_type": "stream",
     "text": [
      "Bowling Green, KY 3.44827586207\n"
     ]
    },
    {
     "data": {
      "text/plain": [
       "[('Bowling Green, KY', 0.034482758620689655),\n",
       " ('Champaign-Urbana, IL', 0.040983606557377046),\n",
       " ('Gainesville, FL', 0.057142857142857141),\n",
       " ('Fort Collins-Loveland, CO', 0.058252427184466021),\n",
       " ('Ocean City, NJ', 0.066666666666666666),\n",
       " ('Tallahassee, FL', 0.069767441860465115),\n",
       " ('Burlington-South Burlington, VT', 0.070015220700152203),\n",
       " ('Bridgeport-Stamford-Norwalk, CT', 0.078082191780821916),\n",
       " ('Portland-South Portland, ME', 0.085592011412268187),\n",
       " ('Tampa-St. Petersburg-Clearwater, FL', 0.086698337292161518),\n",
       " ('Provo-Orem, UT', 0.087378640776699032),\n",
       " ('Honolulu, HI', 0.087563451776649745),\n",
       " ('Boston-Cambridge-Quincy, MA-NH', 0.090174966352624494),\n",
       " ('Minneapolis-St Paul-Bloomington, MN-WI', 0.094747682801235841),\n",
       " ('Washington-Arlington-Alexandria, DC-VA-MD-WV', 0.09552310270529088),\n",
       " ('Kansas City, MO-KS', 0.096673596673596679),\n",
       " ('Colorado Springs, CO', 0.096774193548387094),\n",
       " ('Seattle-Tacoma-Bellevue, WA', 0.098804780876494025),\n",
       " ('Baton Rouge, LA', 0.099236641221374045),\n",
       " ('Omaha-Council Bluffs, NE-IA', 0.10031347962382445),\n",
       " ('Des Moines, IA', 0.10179640718562874),\n",
       " ('Allentown-Bethlehem-Easton, PA-NJ', 0.10179640718562874),\n",
       " ('Sioux Falls, SD', 0.10252100840336134),\n",
       " ('New Haven, CT', 0.10474308300395258),\n",
       " ('Philadelphia-Camden-Wilmington, PA-NJ-DE', 0.10507880910683012),\n",
       " ('Detroit-Warren-Livonia, MI', 0.10561299852289513),\n",
       " ('Milwaukee-Waukesha-West Allis, WI', 0.10644257703081232),\n",
       " ('Pueblo, CO', 0.1076923076923077),\n",
       " ('Las Vegas-Paradise, NV', 0.1077752117013087),\n",
       " ('Salt Lake City, UT', 0.1078838174273859),\n",
       " ('St. Louis, MO-IL', 0.10983263598326359),\n",
       " ('Baltimore-Towson, MD', 0.10991233985165205),\n",
       " ('Chicago-Naperville-Joliet, IN-IN-WI', 0.1111111111111111),\n",
       " ('Decatur, IL', 0.1111111111111111),\n",
       " ('Oklahoma City, OK', 0.11258278145695365),\n",
       " ('Louisville, KY-IN', 0.11368015414258188),\n",
       " ('San Diego-Carlsbad-San Marcos, CA', 0.11466372657111357),\n",
       " ('Boise City-Nampa, ID', 0.11490683229813664),\n",
       " ('Denver-Aurora, CO', 0.11502659574468085),\n",
       " ('Peoria, IL', 0.11607142857142858),\n",
       " ('Lexington-Fayette, KY', 0.11616161616161616),\n",
       " ('Chico, CA', 0.11666666666666667),\n",
       " ('Atlanta-Sandy Springs-Marietta, GA', 0.1172680412371134),\n",
       " ('San Francisco-Oakland-Fremont, CA', 0.11976911976911978),\n",
       " ('Columbus, OH', 0.12159709618874773),\n",
       " ('Hartford-West Hartford-East Hartford, CT', 0.12203389830508475),\n",
       " ('Birmingham-Hoover, AL', 0.12244897959183673),\n",
       " ('Orlando, FL', 0.12622950819672132),\n",
       " ('Durham, NC', 0.12698412698412698),\n",
       " ('New York-Northern New Jersey-Long Island, NY-NJ-PA', 0.1277500462192642),\n",
       " ('Albuquerque, NM', 0.1297208538587849),\n",
       " ('Cleveland-Elyria-Mentor, OH', 0.13362701908957417),\n",
       " ('Columbia, SC', 0.13402061855670103),\n",
       " ('Miami-Fort Lauderdale-Miami Beach, FL', 0.13577863577863578),\n",
       " ('Wichita, KS', 0.13583138173302109),\n",
       " ('Phoenix-Mesa-Scottsdale, AZ', 0.13594232749742532),\n",
       " ('Binghamton, NY', 0.13698630136986301),\n",
       " ('Charlotte-Gastonia-Concord, NC-SC', 0.13733075435203096),\n",
       " ('Cincinnati-Middletown, OH-KY-IN', 0.13769123783031989),\n",
       " ('Providence-Fall River-Warwick, MA-RI', 0.13879159369527144),\n",
       " ('Bangor, ME', 0.13942307692307693),\n",
       " ('Toledo, OH', 0.14042553191489363),\n",
       " ('Warner Robins, GA', 0.14285714285714285),\n",
       " ('Shreveport-Bossier City, LA', 0.14383561643835616),\n",
       " ('Salem, OR', 0.14705882352941177),\n",
       " ('Dallas-Fort Worth-Arlington, TX', 0.14868491680085882),\n",
       " ('Fayetteville-Springdale-Rogers, AR-MO', 0.14883720930232558),\n",
       " ('Dover, DE', 0.15131578947368421),\n",
       " ('Spartanburg, SC', 0.15151515151515152),\n",
       " ('Houston-Baytown-Sugar Land, TX', 0.15221346270466948),\n",
       " ('Sacramento-Arden-Arcade-Roseville, CA', 0.15292353823088456),\n",
       " ('Midland, TX', 0.15686274509803921),\n",
       " ('Charleston, WV', 0.16030534351145037),\n",
       " ('Yakima, WA', 0.16071428571428573),\n",
       " ('Fresno, CA', 0.1617161716171617),\n",
       " ('Little Rock-North Little Rock, AR', 0.16336633663366337),\n",
       " ('Oxnard-Thousand Oaks-Ventura, CA', 0.16479400749063669),\n",
       " ('San Antonio, TX', 0.16639209225700163),\n",
       " ('New Orleans-Metairie-Kenner, LA', 0.16893732970027248),\n",
       " ('Riverside-San Bernardino, CA', 0.18139534883720931),\n",
       " ('Visalia-Porterville, CA', 0.18181818181818182),\n",
       " ('Los Angeles-Long Beach-Santa Ana, CA', 0.18576304241833252),\n",
       " ('Hagerstown-Martinsburg, MD-WV', 0.18604651162790697),\n",
       " ('Killeen-Temple-Fort Hood, TX', 0.18811881188118812),\n",
       " ('Hickory-Morgantown-Lenoir, NC', 0.19298245614035087),\n",
       " ('Lafayette, LA', 0.19337016574585636),\n",
       " ('Stockton, CA', 0.19689119170984457),\n",
       " ('El Paso, TX', 0.22540983606557377),\n",
       " ('Corpus Christi, TX', 0.22727272727272727),\n",
       " ('Florence, AL', 0.26984126984126983),\n",
       " ('McAllen-Edinburg-Pharr, TX', 0.27692307692307694),\n",
       " ('Macon, GA', 0.30769230769230771)]"
      ]
     },
     "execution_count": 367,
     "metadata": {},
     "output_type": "execute_result"
    }
   ],
   "source": [
    "# 20 - determine which metropolitan area has the smallest proportion\n",
    "#      of interviewees who have received no high school diploma.\n",
    "\n",
    "\n",
    "x = merged.MetroArea[merged.Education == 'No high school diploma'].value_counts()\n",
    "y = merged.MetroArea.value_counts()\n",
    "\n",
    "least_metro_area, least_prop = '', 100\n",
    "answerDict = {}\n",
    "for i in x:\n",
    "    index = x[x == i].index[0]  # which metro area\n",
    "    deno  = y[index]            # total number of interview for the current metro area\n",
    "    currProp = i / deno\n",
    "    if currProp < least_prop:\n",
    "        least_prop = currProp * 100\n",
    "        least_metro_area = index\n",
    "        answerDict[index] = currProp\n",
    "\n",
    "print(least_metro_area, least_prop)\n",
    "\n",
    "from operator import itemgetter\n",
    "\n",
    "sorted(answerDict.items(), key=itemgetter(1))\n",
    "\n",
    "# The correct answer is 'Iowa City, IA' and not 'Bowling Green, KY\n",
    "# I've created the answerDict just to look closer at the answer I've got\n",
    "# I've given up on finding the right answer here"
   ]
  },
  {
   "cell_type": "code",
   "execution_count": 381,
   "metadata": {},
   "outputs": [
    {
     "data": {
      "text/html": [
       "<div>\n",
       "<style>\n",
       "    .dataframe thead tr:only-child th {\n",
       "        text-align: right;\n",
       "    }\n",
       "\n",
       "    .dataframe thead th {\n",
       "        text-align: left;\n",
       "    }\n",
       "\n",
       "    .dataframe tbody tr th {\n",
       "        vertical-align: top;\n",
       "    }\n",
       "</style>\n",
       "<table border=\"1\" class=\"dataframe\">\n",
       "  <thead>\n",
       "    <tr style=\"text-align: right;\">\n",
       "      <th></th>\n",
       "      <th>PeopleInHousehold</th>\n",
       "      <th>Region</th>\n",
       "      <th>State</th>\n",
       "      <th>MetroAreaCode</th>\n",
       "      <th>Age</th>\n",
       "      <th>Married</th>\n",
       "      <th>Sex</th>\n",
       "      <th>Education</th>\n",
       "      <th>Race</th>\n",
       "      <th>Hispanic</th>\n",
       "      <th>CountryOfBirthCode</th>\n",
       "      <th>Citizenship</th>\n",
       "      <th>EmploymentStatus</th>\n",
       "      <th>Industry</th>\n",
       "      <th>Country</th>\n",
       "    </tr>\n",
       "  </thead>\n",
       "  <tbody>\n",
       "    <tr>\n",
       "      <th>0</th>\n",
       "      <td>1</td>\n",
       "      <td>South</td>\n",
       "      <td>Alabama</td>\n",
       "      <td>26620.0</td>\n",
       "      <td>85</td>\n",
       "      <td>Widowed</td>\n",
       "      <td>Female</td>\n",
       "      <td>Associate degree</td>\n",
       "      <td>White</td>\n",
       "      <td>0</td>\n",
       "      <td>57</td>\n",
       "      <td>Citizen, Native</td>\n",
       "      <td>Retired</td>\n",
       "      <td>NaN</td>\n",
       "      <td>United States</td>\n",
       "    </tr>\n",
       "    <tr>\n",
       "      <th>1</th>\n",
       "      <td>3</td>\n",
       "      <td>South</td>\n",
       "      <td>Alabama</td>\n",
       "      <td>13820.0</td>\n",
       "      <td>21</td>\n",
       "      <td>Never Married</td>\n",
       "      <td>Male</td>\n",
       "      <td>High school</td>\n",
       "      <td>Black</td>\n",
       "      <td>0</td>\n",
       "      <td>57</td>\n",
       "      <td>Citizen, Native</td>\n",
       "      <td>Unemployed</td>\n",
       "      <td>Professional and business services</td>\n",
       "      <td>United States</td>\n",
       "    </tr>\n",
       "    <tr>\n",
       "      <th>2</th>\n",
       "      <td>3</td>\n",
       "      <td>South</td>\n",
       "      <td>Alabama</td>\n",
       "      <td>13820.0</td>\n",
       "      <td>37</td>\n",
       "      <td>Never Married</td>\n",
       "      <td>Female</td>\n",
       "      <td>High school</td>\n",
       "      <td>Black</td>\n",
       "      <td>0</td>\n",
       "      <td>57</td>\n",
       "      <td>Citizen, Native</td>\n",
       "      <td>Disabled</td>\n",
       "      <td>NaN</td>\n",
       "      <td>United States</td>\n",
       "    </tr>\n",
       "    <tr>\n",
       "      <th>3</th>\n",
       "      <td>3</td>\n",
       "      <td>South</td>\n",
       "      <td>Alabama</td>\n",
       "      <td>13820.0</td>\n",
       "      <td>18</td>\n",
       "      <td>Never Married</td>\n",
       "      <td>Male</td>\n",
       "      <td>No high school diploma</td>\n",
       "      <td>Black</td>\n",
       "      <td>0</td>\n",
       "      <td>57</td>\n",
       "      <td>Citizen, Native</td>\n",
       "      <td>Not in Labor Force</td>\n",
       "      <td>NaN</td>\n",
       "      <td>United States</td>\n",
       "    </tr>\n",
       "    <tr>\n",
       "      <th>4</th>\n",
       "      <td>3</td>\n",
       "      <td>South</td>\n",
       "      <td>Alabama</td>\n",
       "      <td>26620.0</td>\n",
       "      <td>52</td>\n",
       "      <td>Widowed</td>\n",
       "      <td>Female</td>\n",
       "      <td>Associate degree</td>\n",
       "      <td>White</td>\n",
       "      <td>0</td>\n",
       "      <td>57</td>\n",
       "      <td>Citizen, Native</td>\n",
       "      <td>Employed</td>\n",
       "      <td>Professional and business services</td>\n",
       "      <td>United States</td>\n",
       "    </tr>\n",
       "  </tbody>\n",
       "</table>\n",
       "</div>"
      ],
      "text/plain": [
       "   PeopleInHousehold Region    State  MetroAreaCode  Age        Married  \\\n",
       "0                  1  South  Alabama        26620.0   85        Widowed   \n",
       "1                  3  South  Alabama        13820.0   21  Never Married   \n",
       "2                  3  South  Alabama        13820.0   37  Never Married   \n",
       "3                  3  South  Alabama        13820.0   18  Never Married   \n",
       "4                  3  South  Alabama        26620.0   52        Widowed   \n",
       "\n",
       "      Sex               Education   Race  Hispanic  CountryOfBirthCode  \\\n",
       "0  Female        Associate degree  White         0                  57   \n",
       "1    Male             High school  Black         0                  57   \n",
       "2  Female             High school  Black         0                  57   \n",
       "3    Male  No high school diploma  Black         0                  57   \n",
       "4  Female        Associate degree  White         0                  57   \n",
       "\n",
       "       Citizenship    EmploymentStatus                            Industry  \\\n",
       "0  Citizen, Native             Retired                                 NaN   \n",
       "1  Citizen, Native          Unemployed  Professional and business services   \n",
       "2  Citizen, Native            Disabled                                 NaN   \n",
       "3  Citizen, Native  Not in Labor Force                                 NaN   \n",
       "4  Citizen, Native            Employed  Professional and business services   \n",
       "\n",
       "         Country  \n",
       "0  United States  \n",
       "1  United States  \n",
       "2  United States  \n",
       "3  United States  \n",
       "4  United States  "
      ]
     },
     "execution_count": 381,
     "metadata": {},
     "output_type": "execute_result"
    }
   ],
   "source": [
    "# Just as we did with the metropolitan area information, merge in the country of birth information from\n",
    "# the CountryMap data frame, replacing the CPS data frame with the result.\n",
    "\n",
    "# 21 - What is the name of the variable added to the CPS data frame by this merge operation?\n",
    "country = pd.read_csv('data/CountryCodes.csv')\n",
    "country.head()\n",
    "\n",
    "# Dropped the code column since it's just a replica of CountryOfBirth column\n",
    "second = pd.merge(cps, country, how='left', left_on='CountryOfBirthCode', right_on='Code').drop('Code', axis=1)\n",
    "second.head()\n",
    "\n",
    "# ans: Country"
   ]
  },
  {
   "cell_type": "code",
   "execution_count": 382,
   "metadata": {},
   "outputs": [
    {
     "data": {
      "text/plain": [
       "176"
      ]
     },
     "execution_count": 382,
     "metadata": {},
     "output_type": "execute_result"
    }
   ],
   "source": [
    "# 23 - How many interviewees have a missing value for the new country of birth variable?\n",
    "second.Country.isnull().sum()\n",
    "\n",
    "# ans: 176"
   ]
  },
  {
   "cell_type": "code",
   "execution_count": 390,
   "metadata": {},
   "outputs": [
    {
     "data": {
      "text/plain": [
       "Philippines           839\n",
       "India                 770\n",
       "China                 581\n",
       "Puerto Rico           518\n",
       "El Salvador           477\n",
       "Vietnam               458\n",
       "Germany               438\n",
       "Korea                 334\n",
       "Dominican Republic    330\n",
       "Guatemala             309\n",
       "Name: Country, dtype: int64"
      ]
     },
     "execution_count": 390,
     "metadata": {},
     "output_type": "execute_result"
    }
   ],
   "source": [
    "# 24 - Among all interviewees born outside of North America, which country was the most common place of birth?\n",
    "\n",
    "val_counts = second.Country.value_counts()\n",
    "# total_outside_US = val_counts[ ~val_counts.index.isin(['United States']) ].sum()\n",
    "val_counts[~val_counts.index.isin(['United States', 'Mexico', 'Canada', 'Costa Rica', 'Cuba'])][:10]\n",
    "\n",
    "# ans: Philipines"
   ]
  },
  {
   "cell_type": "code",
   "execution_count": 407,
   "metadata": {},
   "outputs": [
    {
     "data": {
      "text/plain": [
       "0.30866025166543304"
      ]
     },
     "execution_count": 407,
     "metadata": {},
     "output_type": "execute_result"
    }
   ],
   "source": [
    "# 25 - What proportion of the interviewees from the \"New York-Northern New Jersey-Long Island, NY-NJ-PA\"\n",
    "#      have a country of birth that is not the United States?\n",
    "\n",
    "val_counts = second.Country[merged.MetroArea == 'New York-Northern New Jersey-Long Island, NY-NJ-PA'].value_counts()\n",
    "total_not_from_USA = val_counts[~val_counts.index.isin(['United States'])].sum()\n",
    "\n",
    "total_not_from_USA / val_counts.sum()\n",
    "\n",
    "# ans: 0.309"
   ]
  },
  {
   "cell_type": "code",
   "execution_count": 416,
   "metadata": {},
   "outputs": [
    {
     "name": "stdout",
     "output_type": "stream",
     "text": [
      "New York-Northern New Jersey-Long Island, NY-NJ-PA    96\n",
      "Washington-Arlington-Alexandria, DC-VA-MD-WV          50\n",
      "Philadelphia-Camden-Wilmington, PA-NJ-DE              32\n",
      "Name: MetroArea, dtype: int64\n",
      "\n",
      "Boston-Cambridge-Quincy, MA-NH           18\n",
      "Miami-Fort Lauderdale-Miami Beach, FL    16\n",
      "Los Angeles-Long Beach-Santa Ana, CA      9\n",
      "Name: MetroArea, dtype: int64\n",
      "\n",
      "Minneapolis-St Paul-Bloomington, MN-WI    17\n",
      "St. Cloud, MN                              7\n",
      "Phoenix-Mesa-Scottsdale, AZ                7\n",
      "Name: MetroArea, dtype: int64\n",
      "\n"
     ]
    }
   ],
   "source": [
    "# 26 - Which metropolitan area has the largest number (note -- not proportion)\n",
    "#      of interviewees with a country of birth in India, Brazil and Somalia?\n",
    "\n",
    "print(merged.MetroArea[second.Country == 'India'].value_counts()[:3], end='\\n\\n')\n",
    "print(merged.MetroArea[second.Country == 'Brazil'].value_counts()[:3], end='\\n\\n')\n",
    "print(merged.MetroArea[second.Country == 'Somalia'].value_counts()[:3], end='\\n\\n')\n",
    "\n",
    "# ans: India   ->  New York-Northern New Jersey-Long Island, NY-NJ-PA\n",
    "#      Brazil  ->  Boston-Cambridge-Quincy, MA-NH\n",
    "#      Somalia ->  Minneapolis-St Paul-Bloomington, MN-WI"
   ]
  }
 ],
 "metadata": {
  "kernelspec": {
   "display_name": "Python 3",
   "language": "python",
   "name": "python3"
  },
  "language_info": {
   "codemirror_mode": {
    "name": "ipython",
    "version": 3
   },
   "file_extension": ".py",
   "mimetype": "text/x-python",
   "name": "python",
   "nbconvert_exporter": "python",
   "pygments_lexer": "ipython3",
   "version": "3.6.1"
  }
 },
 "nbformat": 4,
 "nbformat_minor": 2
}
