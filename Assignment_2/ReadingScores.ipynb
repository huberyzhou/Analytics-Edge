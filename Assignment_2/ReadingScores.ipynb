{
 "cells": [
  {
   "cell_type": "markdown",
   "metadata": {},
   "source": [
    "<h1 align='center'>Reading Test Scores</h1>\n",
    "\n",
    "<img src='http://www5.esc13.net/thescoop/deaf-ed/files/2012/01/4-boys-reading.jpg' />\n",
    "\n",
    "The Programme for International Student Assessment (PISA) is a test given every three years to 15-year-old students from around the world to evaluate their performance in mathematics, reading, and science. This test provides a quantitative way to compare the performance of students from different parts of the world. In this homework assignment, we will predict the reading scores of students from the United States of America on the 2009 PISA exam.\n",
    "\n",
    "The datasets <a href='data/pisa2009train.csv'>pisa2009train.csv</a> and <a href='pisa2009test.csv'>pisa2009test.csv</a> contain information about the demographics and schools for American students taking the exam, derived from 2009 PISA Public-Use Data Files distributed by the United States National Center for Education Statistics (NCES). While the datasets are not supposed to contain identifying information about students taking the test, by using the data you are bound by the NCES data use agreement, which prohibits any attempt to determine the identity of any student in the datasets.\n",
    "\n",
    "Each row in the datasets pisa2009train.csv and pisa2009test.csv represents one student taking the exam. The datasets have the following variables:\n",
    "\n",
    "**grade**: The grade in school of the student (most 15-year-olds in America are in 10th grade)\n",
    "\n",
    "**male**: Whether the student is male (1/0)\n",
    "\n",
    "**raceeth**: The race/ethnicity composite of the student\n",
    "\n",
    "**preschool**: Whether the student attended preschool (1/0)\n",
    "\n",
    "**expectBachelors**: Whether the student expects to obtain a bachelor's degree (1/0)\n",
    "\n",
    "**motherHS**: Whether the student's mother completed high school (1/0)\n",
    "\n",
    "**motherBachelors**: Whether the student's mother obtained a bachelor's degree (1/0)\n",
    "\n",
    "**motherWork**: Whether the student's mother has part-time or full-time work (1/0)\n",
    "\n",
    "**fatherHS**: Whether the student's father completed high school (1/0)\n",
    "\n",
    "**fatherBachelors**: Whether the student's father obtained a bachelor's degree (1/0)\n",
    "\n",
    "**fatherWork**: Whether the student's father has part-time or full-time work (1/0)\n",
    "\n",
    "**selfBornUS**: Whether the student was born in the United States of America (1/0)\n",
    "\n",
    "**motherBornUS**: Whether the student's mother was born in the United States of America (1/0)\n",
    "\n",
    "**fatherBornUS**: Whether the student's father was born in the United States of America (1/0)\n",
    "\n",
    "**englishAtHome**: Whether the student speaks English at home (1/0)\n",
    "\n",
    "**computerForSchoolwork**: Whether the student has access to a computer for schoolwork (1/0)\n",
    "\n",
    "**read30MinsADay**: Whether the student reads for pleasure for 30 minutes/day (1/0)\n",
    "\n",
    "**minutesPerWeekEnglish**: The number of minutes per week the student spend in English class\n",
    "\n",
    "**studentsInEnglish**: The number of students in this student's English class at school\n",
    "\n",
    "**schoolHasLibrary**: Whether this student's school has a library (1/0)\n",
    "\n",
    "**publicSchool**: Whether this student attends a public school (1/0)\n",
    "\n",
    "**urban**: Whether this student's school is in an urban area (1/0)\n",
    "\n",
    "**schoolSize**: The number of students in this student's school\n",
    "\n",
    "**readingScore**: The student's reading score, on a 1000-point scale"
   ]
  },
  {
   "cell_type": "code",
   "execution_count": 1,
   "metadata": {
    "collapsed": true
   },
   "outputs": [],
   "source": [
    "import pandas as pd\n",
    "import numpy as np\n",
    "import seaborn as sns\n",
    "import matplotlib.pyplot as plt\n",
    "plt.style.use('fivethirtyeight')"
   ]
  },
  {
   "cell_type": "code",
   "execution_count": 2,
   "metadata": {},
   "outputs": [
    {
     "data": {
      "text/html": [
       "<div>\n",
       "<style>\n",
       "    .dataframe thead tr:only-child th {\n",
       "        text-align: right;\n",
       "    }\n",
       "\n",
       "    .dataframe thead th {\n",
       "        text-align: left;\n",
       "    }\n",
       "\n",
       "    .dataframe tbody tr th {\n",
       "        vertical-align: top;\n",
       "    }\n",
       "</style>\n",
       "<table border=\"1\" class=\"dataframe\">\n",
       "  <thead>\n",
       "    <tr style=\"text-align: right;\">\n",
       "      <th></th>\n",
       "      <th>grade</th>\n",
       "      <th>male</th>\n",
       "      <th>raceeth</th>\n",
       "      <th>preschool</th>\n",
       "      <th>expectBachelors</th>\n",
       "      <th>motherHS</th>\n",
       "      <th>motherBachelors</th>\n",
       "      <th>motherWork</th>\n",
       "      <th>fatherHS</th>\n",
       "      <th>fatherBachelors</th>\n",
       "      <th>...</th>\n",
       "      <th>englishAtHome</th>\n",
       "      <th>computerForSchoolwork</th>\n",
       "      <th>read30MinsADay</th>\n",
       "      <th>minutesPerWeekEnglish</th>\n",
       "      <th>studentsInEnglish</th>\n",
       "      <th>schoolHasLibrary</th>\n",
       "      <th>publicSchool</th>\n",
       "      <th>urban</th>\n",
       "      <th>schoolSize</th>\n",
       "      <th>readingScore</th>\n",
       "    </tr>\n",
       "  </thead>\n",
       "  <tbody>\n",
       "    <tr>\n",
       "      <th>0</th>\n",
       "      <td>11</td>\n",
       "      <td>1</td>\n",
       "      <td>NaN</td>\n",
       "      <td>NaN</td>\n",
       "      <td>0.0</td>\n",
       "      <td>NaN</td>\n",
       "      <td>NaN</td>\n",
       "      <td>1.0</td>\n",
       "      <td>NaN</td>\n",
       "      <td>NaN</td>\n",
       "      <td>...</td>\n",
       "      <td>0.0</td>\n",
       "      <td>1.0</td>\n",
       "      <td>0.0</td>\n",
       "      <td>225.0</td>\n",
       "      <td>NaN</td>\n",
       "      <td>1.0</td>\n",
       "      <td>1</td>\n",
       "      <td>1</td>\n",
       "      <td>673.0</td>\n",
       "      <td>476.00</td>\n",
       "    </tr>\n",
       "    <tr>\n",
       "      <th>1</th>\n",
       "      <td>11</td>\n",
       "      <td>1</td>\n",
       "      <td>White</td>\n",
       "      <td>0.0</td>\n",
       "      <td>0.0</td>\n",
       "      <td>1.0</td>\n",
       "      <td>1.0</td>\n",
       "      <td>1.0</td>\n",
       "      <td>1.0</td>\n",
       "      <td>0.0</td>\n",
       "      <td>...</td>\n",
       "      <td>1.0</td>\n",
       "      <td>1.0</td>\n",
       "      <td>1.0</td>\n",
       "      <td>450.0</td>\n",
       "      <td>25.0</td>\n",
       "      <td>1.0</td>\n",
       "      <td>1</td>\n",
       "      <td>0</td>\n",
       "      <td>1173.0</td>\n",
       "      <td>575.01</td>\n",
       "    </tr>\n",
       "    <tr>\n",
       "      <th>2</th>\n",
       "      <td>9</td>\n",
       "      <td>1</td>\n",
       "      <td>White</td>\n",
       "      <td>1.0</td>\n",
       "      <td>1.0</td>\n",
       "      <td>1.0</td>\n",
       "      <td>1.0</td>\n",
       "      <td>1.0</td>\n",
       "      <td>1.0</td>\n",
       "      <td>NaN</td>\n",
       "      <td>...</td>\n",
       "      <td>1.0</td>\n",
       "      <td>1.0</td>\n",
       "      <td>0.0</td>\n",
       "      <td>250.0</td>\n",
       "      <td>28.0</td>\n",
       "      <td>1.0</td>\n",
       "      <td>1</td>\n",
       "      <td>0</td>\n",
       "      <td>1233.0</td>\n",
       "      <td>554.81</td>\n",
       "    </tr>\n",
       "    <tr>\n",
       "      <th>3</th>\n",
       "      <td>10</td>\n",
       "      <td>0</td>\n",
       "      <td>Black</td>\n",
       "      <td>1.0</td>\n",
       "      <td>1.0</td>\n",
       "      <td>0.0</td>\n",
       "      <td>0.0</td>\n",
       "      <td>1.0</td>\n",
       "      <td>1.0</td>\n",
       "      <td>0.0</td>\n",
       "      <td>...</td>\n",
       "      <td>1.0</td>\n",
       "      <td>1.0</td>\n",
       "      <td>1.0</td>\n",
       "      <td>200.0</td>\n",
       "      <td>23.0</td>\n",
       "      <td>1.0</td>\n",
       "      <td>1</td>\n",
       "      <td>1</td>\n",
       "      <td>2640.0</td>\n",
       "      <td>458.11</td>\n",
       "    </tr>\n",
       "    <tr>\n",
       "      <th>4</th>\n",
       "      <td>10</td>\n",
       "      <td>1</td>\n",
       "      <td>Hispanic</td>\n",
       "      <td>1.0</td>\n",
       "      <td>0.0</td>\n",
       "      <td>1.0</td>\n",
       "      <td>0.0</td>\n",
       "      <td>1.0</td>\n",
       "      <td>1.0</td>\n",
       "      <td>0.0</td>\n",
       "      <td>...</td>\n",
       "      <td>1.0</td>\n",
       "      <td>1.0</td>\n",
       "      <td>1.0</td>\n",
       "      <td>250.0</td>\n",
       "      <td>35.0</td>\n",
       "      <td>1.0</td>\n",
       "      <td>1</td>\n",
       "      <td>1</td>\n",
       "      <td>1095.0</td>\n",
       "      <td>613.89</td>\n",
       "    </tr>\n",
       "  </tbody>\n",
       "</table>\n",
       "<p>5 rows × 24 columns</p>\n",
       "</div>"
      ],
      "text/plain": [
       "   grade  male   raceeth  preschool  expectBachelors  motherHS  \\\n",
       "0     11     1       NaN        NaN              0.0       NaN   \n",
       "1     11     1     White        0.0              0.0       1.0   \n",
       "2      9     1     White        1.0              1.0       1.0   \n",
       "3     10     0     Black        1.0              1.0       0.0   \n",
       "4     10     1  Hispanic        1.0              0.0       1.0   \n",
       "\n",
       "   motherBachelors  motherWork  fatherHS  fatherBachelors      ...       \\\n",
       "0              NaN         1.0       NaN              NaN      ...        \n",
       "1              1.0         1.0       1.0              0.0      ...        \n",
       "2              1.0         1.0       1.0              NaN      ...        \n",
       "3              0.0         1.0       1.0              0.0      ...        \n",
       "4              0.0         1.0       1.0              0.0      ...        \n",
       "\n",
       "   englishAtHome  computerForSchoolwork  read30MinsADay  \\\n",
       "0            0.0                    1.0             0.0   \n",
       "1            1.0                    1.0             1.0   \n",
       "2            1.0                    1.0             0.0   \n",
       "3            1.0                    1.0             1.0   \n",
       "4            1.0                    1.0             1.0   \n",
       "\n",
       "   minutesPerWeekEnglish  studentsInEnglish  schoolHasLibrary  publicSchool  \\\n",
       "0                  225.0                NaN               1.0             1   \n",
       "1                  450.0               25.0               1.0             1   \n",
       "2                  250.0               28.0               1.0             1   \n",
       "3                  200.0               23.0               1.0             1   \n",
       "4                  250.0               35.0               1.0             1   \n",
       "\n",
       "   urban  schoolSize  readingScore  \n",
       "0      1       673.0        476.00  \n",
       "1      0      1173.0        575.01  \n",
       "2      0      1233.0        554.81  \n",
       "3      1      2640.0        458.11  \n",
       "4      1      1095.0        613.89  \n",
       "\n",
       "[5 rows x 24 columns]"
      ]
     },
     "metadata": {},
     "output_type": "display_data"
    }
   ],
   "source": [
    "from IPython.display import display\n",
    "\n",
    "training_data = pd.read_csv('data/pisa2009train.csv')\n",
    "testing_data  = pd.read_csv('data/pisa2009test.csv')\n",
    "\n",
    "display(training_data.head())"
   ]
  },
  {
   "cell_type": "code",
   "execution_count": 3,
   "metadata": {},
   "outputs": [
    {
     "name": "stdout",
     "output_type": "stream",
     "text": [
      "3663\n"
     ]
    }
   ],
   "source": [
    "# 1 - How many students are there in the training set?\n",
    "print(len(training_data))\n",
    "\n",
    "# Answer: 3663"
   ]
  },
  {
   "cell_type": "code",
   "execution_count": 4,
   "metadata": {},
   "outputs": [
    {
     "data": {
      "text/plain": [
       "male\n",
       "0    512.940631\n",
       "1    483.532479\n",
       "Name: readingScore, dtype: float64"
      ]
     },
     "execution_count": 4,
     "metadata": {},
     "output_type": "execute_result"
    }
   ],
   "source": [
    "# 2 -  what is the average reading test score of males and females?\n",
    "training_data.groupby('male')['readingScore'].mean()\n",
    "\n",
    "# Answer: males -> 483.5\n",
    "#         females -> 512.9"
   ]
  },
  {
   "cell_type": "code",
   "execution_count": 5,
   "metadata": {},
   "outputs": [
    {
     "data": {
      "text/plain": [
       "grade                      0\n",
       "male                       0\n",
       "raceeth                   35\n",
       "preschool                 56\n",
       "expectBachelors           62\n",
       "motherHS                  97\n",
       "motherBachelors          397\n",
       "motherWork                93\n",
       "fatherHS                 245\n",
       "fatherBachelors          569\n",
       "fatherWork               233\n",
       "selfBornUS                69\n",
       "motherBornUS              71\n",
       "fatherBornUS             113\n",
       "englishAtHome             71\n",
       "computerForSchoolwork     65\n",
       "read30MinsADay            34\n",
       "minutesPerWeekEnglish    186\n",
       "studentsInEnglish        249\n",
       "schoolHasLibrary         143\n",
       "publicSchool               0\n",
       "urban                      0\n",
       "schoolSize               162\n",
       "readingScore               0\n",
       "dtype: int64"
      ]
     },
     "execution_count": 5,
     "metadata": {},
     "output_type": "execute_result"
    }
   ],
   "source": [
    "# 3 - Which variables are missing data in at least one observation in the training set?\n",
    "training_data.isnull().sum()\n",
    "\n",
    "# Answer: all except \"grade\", \"male\", \"publicSchool\", \"urban\" and \"readingScore\""
   ]
  },
  {
   "cell_type": "code",
   "execution_count": 6,
   "metadata": {},
   "outputs": [
    {
     "name": "stdout",
     "output_type": "stream",
     "text": [
      "2414\n",
      "990\n"
     ]
    }
   ],
   "source": [
    "# 4 - Linear regression discards observations with missing data, so we will remove all such observations\n",
    "#     from the training and testing sets. Later in the course, we will learn about imputation,\n",
    "#     which deals with missing data by filling in missing values with plausible information.\n",
    "\n",
    "# How many observations are now in the training set?\n",
    "# How many observations are now in the training set?\n",
    "\n",
    "training_data = training_data.dropna()\n",
    "testing_data  = testing_data.dropna()\n",
    "\n",
    "print(len(training_data))\n",
    "print(len(testing_data))"
   ]
  },
  {
   "cell_type": "code",
   "execution_count": 7,
   "metadata": {},
   "outputs": [
    {
     "name": "stdout",
     "output_type": "stream",
     "text": [
      "[11 10  9 12  8]\n",
      "[1 0]\n",
      "['White' 'Black' 'Hispanic' 'More than one race'\n",
      " 'American Indian/Alaska Native' 'Asian'\n",
      " 'Native Hawaiian/Other Pacific Islander']\n"
     ]
    }
   ],
   "source": [
    "# 5 - Which of the following variables is an unordered factor with at least 3 levels?\n",
    "\n",
    "# a) grade\n",
    "# b) male\n",
    "# c) raceeth\n",
    "\n",
    "print( training_data.grade.unique() )\n",
    "print( training_data.male.unique() )\n",
    "print( training_data.raceeth.unique() )\n",
    "\n",
    "# Answer: raceeth\n",
    "\n",
    "#         grade is an ordered categorical variable i.e. grade A is better than grade C\n",
    "#         male is not ordered yes, but it has only two levels\n",
    "#               (unless the infuriating social justice warriors got involved)"
   ]
  },
  {
   "cell_type": "code",
   "execution_count": 8,
   "metadata": {},
   "outputs": [],
   "source": [
    "# 6 - To include unordered factors in a linear regression model, we define one level as the \"reference level\" and\n",
    "# add a binary variable for each of the remaining levels.\n",
    "# In this way, a factor with n levels is replaced by n-1 binary variables.\n",
    "# The reference level is typically selected to be the most frequently occurring level in the dataset.\n",
    "\n",
    "# As an example, consider the unordered factor variable \"color\", with levels \"red\", \"green\", and \"blue\".\n",
    "# If \"green\" were the reference level, then we would add binary variables \"colorred\" and \"colorblue\" to a\n",
    "# linear regression problem.\n",
    "# All red examples would have colorred=1 and colorblue=0.\n",
    "# All blue examples would have colorred=0 and colorblue=1.\n",
    "# All green examples would have colorred=0 and colorblue=0.\n",
    "\n",
    "# Now, consider the variable \"raceeth\" in our problem, which has levels \"American Indian/Alaska Native\",\n",
    "# \"Asian\", \"Black\", \"Hispanic\", \"More than one race\", \"Native Hawaiian/Other Pacific Islander\", and \"White\".\n",
    "# Because it is the most common in our population, we will select White as the reference level.\n",
    "\n",
    "# Which binary variables will be included in the regression model?\n",
    "\n",
    "\n",
    "# Answer: All of them except White"
   ]
  },
  {
   "cell_type": "code",
   "execution_count": 9,
   "metadata": {},
   "outputs": [
    {
     "name": "stdout",
     "output_type": "stream",
     "text": [
      "R2: 0.3251433559213568\n"
     ]
    }
   ],
   "source": [
    "# 7 - build a linear regression model (call it lmScore) using the training set to predict readingScore\n",
    "#     using all the remaining variables.\n",
    "\n",
    "# Not important. Just don't like the vague \"object\" dtype\n",
    "training_data.raceeth = training_data.raceeth.astype('category')\n",
    "\n",
    "# The target we are trying to estimate is the reading scores of the students\n",
    "target = training_data.readingScore\n",
    "\n",
    "# The rest of the dataset is our features also called attributes also called regressors also called predictors\n",
    "X = training_data.drop('readingScore', axis=1)\n",
    "\n",
    "# Dummify the raceeth feature. Without this, the feature values are strings\n",
    "# and strings don't play well (at all) with linear regression \n",
    "XX = X.join(pd.get_dummies(X.raceeth)).drop('raceeth', axis=1)\n",
    "\n",
    "\n",
    "# Importing the linear regression model\n",
    "from sklearn.linear_model import LinearRegression\n",
    "\n",
    "# Instantiating the model\n",
    "lmScore = LinearRegression().fit(XX, target)\n",
    "\n",
    "# The R2 value\n",
    "print('R2: {}'.format(lmScore.score(XX, target)))"
   ]
  },
  {
   "cell_type": "code",
   "execution_count": 10,
   "metadata": {},
   "outputs": [
    {
     "data": {
      "text/plain": [
       "73.365551432984503"
      ]
     },
     "execution_count": 10,
     "metadata": {},
     "output_type": "execute_result"
    }
   ],
   "source": [
    "# 8 -What is the training-set root-mean squared error (RMSE) of lmScore?\n",
    "\n",
    "from sklearn.metrics import mean_squared_error\n",
    "\n",
    "# This is not good. The model already trained on the training data.\n",
    "# It's performance should be measured by the testing data, not the training data.\n",
    "rmse = np.sqrt(mean_squared_error(target, lmScore.predict(XX)))\n",
    "rmse"
   ]
  },
  {
   "cell_type": "code",
   "execution_count": 11,
   "metadata": {},
   "outputs": [
    {
     "name": "stdout",
     "output_type": "stream",
     "text": [
      "Coefficient of \"grade\" feature: 29.542707091769806\n"
     ]
    }
   ],
   "source": [
    "# 9 - Consider two students A and B. They have all variable values the same,\n",
    "#     except that student A is in grade 11 and student B is in grade 9.\n",
    "#     What is the predicted reading score of student A minus the predicted reading score of student B?\n",
    "\n",
    "\n",
    "# The question is actually asking the coefficitent of the grade feature in a cheeky way\n",
    "print('Coefficient of \"grade\" feature: {}'.format(dict(zip(X.columns, lmScore.coef_))['grade']))\n",
    "\n",
    "# we see that the \"grade\" feature has a coefficient value of 29.54\n",
    "\n",
    "# Answer: (11 * 29.54) - (9 * 29.54) = 59.1"
   ]
  },
  {
   "cell_type": "code",
   "execution_count": 12,
   "metadata": {},
   "outputs": [
    {
     "name": "stdout",
     "output_type": "stream",
     "text": [
      "-4.46367032118\n"
     ]
    }
   ],
   "source": [
    "# 10 - What is the meaning of the coefficient associated with variable Asian?\n",
    "\n",
    "print(dict(zip(X.columns, lmScore.coef_))['raceeth'])\n",
    "\n",
    "#      It's multiple choice question. The correct answer is: \n",
    "# Predicted difference in the reading score between an Asian student and\n",
    "# a white student who is otherwise identical correct"
   ]
  },
  {
   "cell_type": "code",
   "execution_count": 35,
   "metadata": {},
   "outputs": [
    {
     "data": {
      "text/plain": [
       "284.46831179514027"
      ]
     },
     "execution_count": 35,
     "metadata": {},
     "output_type": "execute_result"
    }
   ],
   "source": [
    "# Use the lmScore model to predict the reading scores of students in pisaTest.\n",
    "# Call this vector of predictions \"predTest\".\n",
    "# Do not change the variables in the model.\n",
    "# Use the describe method to describe the test set predictions.\n",
    "\n",
    "new_target = testing_data.readingScore\n",
    "new_data = testing_data.join(pd.get_dummies(testing_data.raceeth)).drop(['readingScore', 'raceeth'], axis=1)\n",
    "\n",
    "predTest = lmScore.predict(new_data)\n",
    "\n",
    "\n",
    "# 11 - What is the range between the maximum and minimum predicted reading score on the test set?\n",
    "predTest.max() - predTest.min()\n",
    "\n",
    "# Answer: 284.5"
   ]
  },
  {
   "cell_type": "code",
   "execution_count": 38,
   "metadata": {},
   "outputs": [
    {
     "data": {
      "text/plain": [
       "5762082.371144427"
      ]
     },
     "execution_count": 38,
     "metadata": {},
     "output_type": "execute_result"
    }
   ],
   "source": [
    "# 12 - What is the sum of squared errors (SSE) of lmScore on the testing set?\n",
    "\n",
    "mean_squared_error(new_target, predTest) * len(predTest)\n",
    "\n",
    "# Answer: 5762082"
   ]
  },
  {
   "cell_type": "code",
   "execution_count": 40,
   "metadata": {},
   "outputs": [
    {
     "data": {
      "text/plain": [
       "76.290793831092159"
      ]
     },
     "execution_count": 40,
     "metadata": {},
     "output_type": "execute_result"
    }
   ],
   "source": [
    "# 13 - What is the root-mean squared error (RMSE) of lmScore on the testing set?\n",
    "\n",
    "np.sqrt(mean_squared_error(new_target, predTest))"
   ]
  },
  {
   "cell_type": "code",
   "execution_count": 41,
   "metadata": {},
   "outputs": [
    {
     "data": {
      "text/plain": [
       "517.9628873239429"
      ]
     },
     "execution_count": 41,
     "metadata": {},
     "output_type": "execute_result"
    }
   ],
   "source": [
    "# 14 - What is the predicted test score used in the baseline model?\n",
    "#      ( Remember to compute this value using the training set and not the test set. )\n",
    "\n",
    "np.mean(target)"
   ]
  },
  {
   "cell_type": "code",
   "execution_count": 45,
   "metadata": {},
   "outputs": [
    {
     "data": {
      "text/plain": [
       "7798774.9638263648"
      ]
     },
     "execution_count": 45,
     "metadata": {},
     "output_type": "execute_result"
    }
   ],
   "source": [
    "# 15 - What is the sum of squared errors of the baseline model on the testing set?\n",
    "#      HINT: We call the sum of squared errors for the baseline model the total sum of squares (SST).\n",
    "sum([(y - np.mean(new_target)) ** 2 for y in new_target])"
   ]
  },
  {
   "cell_type": "code",
   "execution_count": 50,
   "metadata": {},
   "outputs": [
    {
     "name": "stdout",
     "output_type": "stream",
     "text": [
      "0.261155450969\n",
      "0.261155450969\n"
     ]
    }
   ],
   "source": [
    "# 16 - What is the test-set R-squared value of lmScore?\n",
    "\n",
    "print(lmScore.score(new_data, new_target))\n",
    "\n",
    "# OR\n",
    "\n",
    "SSE = mean_squared_error(new_target, predTest) * len(predTest)\n",
    "SST = sum([(y - np.mean(new_target)) ** 2 for y in new_target])\n",
    "\n",
    "R2 = 1 - (SSE / SST)\n",
    "print(R2)"
   ]
  }
 ],
 "metadata": {
  "kernelspec": {
   "display_name": "Python 3",
   "language": "python",
   "name": "python3"
  },
  "language_info": {
   "codemirror_mode": {
    "name": "ipython",
    "version": 3
   },
   "file_extension": ".py",
   "mimetype": "text/x-python",
   "name": "python",
   "nbconvert_exporter": "python",
   "pygments_lexer": "ipython3",
   "version": "3.6.1"
  }
 },
 "nbformat": 4,
 "nbformat_minor": 2
}
